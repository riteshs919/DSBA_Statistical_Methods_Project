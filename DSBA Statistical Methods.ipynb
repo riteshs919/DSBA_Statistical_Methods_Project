{
 "cells": [
  {
   "cell_type": "markdown",
   "metadata": {},
   "source": [
    "#### Wholesale Customers Analysis\n",
    "\n",
    " Problem Statement:\n",
    "\n",
    "A wholesale distributor operating in different regions of Portugal has information on annual spending of several items in their stores across different regions and channels. The data consists of 440 large retailers’ annual spending on 6 different varieties of products in 3 different regions (Lisbon, Oporto, Other) and across different sales channel (Hotel, Retail).\n"
   ]
  },
  {
   "cell_type": "code",
   "execution_count": 1,
   "metadata": {},
   "outputs": [],
   "source": [
    "import numpy as np\n",
    "import pandas as pd\n",
    "from scipy.stats import f\n",
    "import matplotlib.pyplot as plt \n",
    "%matplotlib inline\n",
    "import seaborn as sns\n",
    "import scipy.stats as stats\n",
    "from scipy.stats import ttest_1samp, ttest_ind\n",
    "from statsmodels.stats.power import ttest_power\n",
    "import random\n",
    "import statsmodels.api as sm \n",
    "%matplotlib inline\n",
    "sns.set_style(\"whitegrid\")\n"
   ]
  },
  {
   "cell_type": "code",
   "execution_count": 3,
   "metadata": {},
   "outputs": [
    {
     "data": {
      "text/html": [
       "<div>\n",
       "<style scoped>\n",
       "    .dataframe tbody tr th:only-of-type {\n",
       "        vertical-align: middle;\n",
       "    }\n",
       "\n",
       "    .dataframe tbody tr th {\n",
       "        vertical-align: top;\n",
       "    }\n",
       "\n",
       "    .dataframe thead th {\n",
       "        text-align: right;\n",
       "    }\n",
       "</style>\n",
       "<table border=\"1\" class=\"dataframe\">\n",
       "  <thead>\n",
       "    <tr style=\"text-align: right;\">\n",
       "      <th></th>\n",
       "      <th>Buyer/Spender</th>\n",
       "      <th>Channel</th>\n",
       "      <th>Region</th>\n",
       "      <th>Fresh</th>\n",
       "      <th>Milk</th>\n",
       "      <th>Grocery</th>\n",
       "      <th>Frozen</th>\n",
       "      <th>Detergents_Paper</th>\n",
       "      <th>Delicatessen</th>\n",
       "    </tr>\n",
       "  </thead>\n",
       "  <tbody>\n",
       "    <tr>\n",
       "      <th>0</th>\n",
       "      <td>1</td>\n",
       "      <td>Retail</td>\n",
       "      <td>Other</td>\n",
       "      <td>12669</td>\n",
       "      <td>9656</td>\n",
       "      <td>7561</td>\n",
       "      <td>214</td>\n",
       "      <td>2674</td>\n",
       "      <td>1338</td>\n",
       "    </tr>\n",
       "    <tr>\n",
       "      <th>1</th>\n",
       "      <td>2</td>\n",
       "      <td>Retail</td>\n",
       "      <td>Other</td>\n",
       "      <td>7057</td>\n",
       "      <td>9810</td>\n",
       "      <td>9568</td>\n",
       "      <td>1762</td>\n",
       "      <td>3293</td>\n",
       "      <td>1776</td>\n",
       "    </tr>\n",
       "    <tr>\n",
       "      <th>2</th>\n",
       "      <td>3</td>\n",
       "      <td>Retail</td>\n",
       "      <td>Other</td>\n",
       "      <td>6353</td>\n",
       "      <td>8808</td>\n",
       "      <td>7684</td>\n",
       "      <td>2405</td>\n",
       "      <td>3516</td>\n",
       "      <td>7844</td>\n",
       "    </tr>\n",
       "    <tr>\n",
       "      <th>3</th>\n",
       "      <td>4</td>\n",
       "      <td>Hotel</td>\n",
       "      <td>Other</td>\n",
       "      <td>13265</td>\n",
       "      <td>1196</td>\n",
       "      <td>4221</td>\n",
       "      <td>6404</td>\n",
       "      <td>507</td>\n",
       "      <td>1788</td>\n",
       "    </tr>\n",
       "    <tr>\n",
       "      <th>4</th>\n",
       "      <td>5</td>\n",
       "      <td>Retail</td>\n",
       "      <td>Other</td>\n",
       "      <td>22615</td>\n",
       "      <td>5410</td>\n",
       "      <td>7198</td>\n",
       "      <td>3915</td>\n",
       "      <td>1777</td>\n",
       "      <td>5185</td>\n",
       "    </tr>\n",
       "    <tr>\n",
       "      <th>5</th>\n",
       "      <td>6</td>\n",
       "      <td>Retail</td>\n",
       "      <td>Other</td>\n",
       "      <td>9413</td>\n",
       "      <td>8259</td>\n",
       "      <td>5126</td>\n",
       "      <td>666</td>\n",
       "      <td>1795</td>\n",
       "      <td>1451</td>\n",
       "    </tr>\n",
       "    <tr>\n",
       "      <th>6</th>\n",
       "      <td>7</td>\n",
       "      <td>Retail</td>\n",
       "      <td>Other</td>\n",
       "      <td>12126</td>\n",
       "      <td>3199</td>\n",
       "      <td>6975</td>\n",
       "      <td>480</td>\n",
       "      <td>3140</td>\n",
       "      <td>545</td>\n",
       "    </tr>\n",
       "    <tr>\n",
       "      <th>7</th>\n",
       "      <td>8</td>\n",
       "      <td>Retail</td>\n",
       "      <td>Other</td>\n",
       "      <td>7579</td>\n",
       "      <td>4956</td>\n",
       "      <td>9426</td>\n",
       "      <td>1669</td>\n",
       "      <td>3321</td>\n",
       "      <td>2566</td>\n",
       "    </tr>\n",
       "    <tr>\n",
       "      <th>8</th>\n",
       "      <td>9</td>\n",
       "      <td>Hotel</td>\n",
       "      <td>Other</td>\n",
       "      <td>5963</td>\n",
       "      <td>3648</td>\n",
       "      <td>6192</td>\n",
       "      <td>425</td>\n",
       "      <td>1716</td>\n",
       "      <td>750</td>\n",
       "    </tr>\n",
       "    <tr>\n",
       "      <th>9</th>\n",
       "      <td>10</td>\n",
       "      <td>Retail</td>\n",
       "      <td>Other</td>\n",
       "      <td>6006</td>\n",
       "      <td>11093</td>\n",
       "      <td>18881</td>\n",
       "      <td>1159</td>\n",
       "      <td>7425</td>\n",
       "      <td>2098</td>\n",
       "    </tr>\n",
       "  </tbody>\n",
       "</table>\n",
       "</div>"
      ],
      "text/plain": [
       "   Buyer/Spender Channel Region  Fresh   Milk  Grocery  Frozen  \\\n",
       "0              1  Retail  Other  12669   9656     7561     214   \n",
       "1              2  Retail  Other   7057   9810     9568    1762   \n",
       "2              3  Retail  Other   6353   8808     7684    2405   \n",
       "3              4   Hotel  Other  13265   1196     4221    6404   \n",
       "4              5  Retail  Other  22615   5410     7198    3915   \n",
       "5              6  Retail  Other   9413   8259     5126     666   \n",
       "6              7  Retail  Other  12126   3199     6975     480   \n",
       "7              8  Retail  Other   7579   4956     9426    1669   \n",
       "8              9   Hotel  Other   5963   3648     6192     425   \n",
       "9             10  Retail  Other   6006  11093    18881    1159   \n",
       "\n",
       "   Detergents_Paper  Delicatessen  \n",
       "0              2674          1338  \n",
       "1              3293          1776  \n",
       "2              3516          7844  \n",
       "3               507          1788  \n",
       "4              1777          5185  \n",
       "5              1795          1451  \n",
       "6              3140           545  \n",
       "7              3321          2566  \n",
       "8              1716           750  \n",
       "9              7425          2098  "
      ]
     },
     "metadata": {},
     "output_type": "display_data"
    }
   ],
   "source": [
    "df=pd.read_csv('Wholesale+Customers+Data.csv')\n",
    "df_orig=df\n",
    "display(df.head(10))"
   ]
  },
  {
   "cell_type": "markdown",
   "metadata": {},
   "source": [
    "## 1.1 Use methods of descriptive statistics to summarize data. Which Region and which Channel seems to spend more? Which Region and which Channel seems to spend less?"
   ]
  },
  {
   "cell_type": "code",
   "execution_count": 4,
   "metadata": {},
   "outputs": [],
   "source": [
    "df['Total_Products']=df['Fresh']+df['Milk']+df['Grocery']+df['Frozen']+df['Detergents_Paper']+df['Delicatessen']"
   ]
  },
  {
   "cell_type": "code",
   "execution_count": 5,
   "metadata": {},
   "outputs": [],
   "source": [
    "#df.pivot_table(values=['Fresh','Milk','Grocery','Frozen','Detergents_Paper','Delicatessen'],index=['Channel'],\n",
    "               #aggfunc=[np.sum])"
   ]
  },
  {
   "cell_type": "code",
   "execution_count": 6,
   "metadata": {},
   "outputs": [
    {
     "data": {
      "text/html": [
       "<div>\n",
       "<style scoped>\n",
       "    .dataframe tbody tr th:only-of-type {\n",
       "        vertical-align: middle;\n",
       "    }\n",
       "\n",
       "    .dataframe tbody tr th {\n",
       "        vertical-align: top;\n",
       "    }\n",
       "\n",
       "    .dataframe thead th {\n",
       "        text-align: right;\n",
       "    }\n",
       "</style>\n",
       "<table border=\"1\" class=\"dataframe\">\n",
       "  <thead>\n",
       "    <tr style=\"text-align: right;\">\n",
       "      <th></th>\n",
       "      <th>count</th>\n",
       "      <th>mean</th>\n",
       "      <th>std</th>\n",
       "      <th>min</th>\n",
       "      <th>25%</th>\n",
       "      <th>50%</th>\n",
       "      <th>75%</th>\n",
       "      <th>max</th>\n",
       "    </tr>\n",
       "  </thead>\n",
       "  <tbody>\n",
       "    <tr>\n",
       "      <th>Buyer/Spender</th>\n",
       "      <td>440.0</td>\n",
       "      <td>220.500000</td>\n",
       "      <td>127.161315</td>\n",
       "      <td>1.0</td>\n",
       "      <td>110.75</td>\n",
       "      <td>220.5</td>\n",
       "      <td>330.25</td>\n",
       "      <td>440.0</td>\n",
       "    </tr>\n",
       "    <tr>\n",
       "      <th>Fresh</th>\n",
       "      <td>440.0</td>\n",
       "      <td>12000.297727</td>\n",
       "      <td>12647.328865</td>\n",
       "      <td>3.0</td>\n",
       "      <td>3127.75</td>\n",
       "      <td>8504.0</td>\n",
       "      <td>16933.75</td>\n",
       "      <td>112151.0</td>\n",
       "    </tr>\n",
       "    <tr>\n",
       "      <th>Milk</th>\n",
       "      <td>440.0</td>\n",
       "      <td>5796.265909</td>\n",
       "      <td>7380.377175</td>\n",
       "      <td>55.0</td>\n",
       "      <td>1533.00</td>\n",
       "      <td>3627.0</td>\n",
       "      <td>7190.25</td>\n",
       "      <td>73498.0</td>\n",
       "    </tr>\n",
       "    <tr>\n",
       "      <th>Grocery</th>\n",
       "      <td>440.0</td>\n",
       "      <td>7951.277273</td>\n",
       "      <td>9503.162829</td>\n",
       "      <td>3.0</td>\n",
       "      <td>2153.00</td>\n",
       "      <td>4755.5</td>\n",
       "      <td>10655.75</td>\n",
       "      <td>92780.0</td>\n",
       "    </tr>\n",
       "    <tr>\n",
       "      <th>Frozen</th>\n",
       "      <td>440.0</td>\n",
       "      <td>3071.931818</td>\n",
       "      <td>4854.673333</td>\n",
       "      <td>25.0</td>\n",
       "      <td>742.25</td>\n",
       "      <td>1526.0</td>\n",
       "      <td>3554.25</td>\n",
       "      <td>60869.0</td>\n",
       "    </tr>\n",
       "    <tr>\n",
       "      <th>Detergents_Paper</th>\n",
       "      <td>440.0</td>\n",
       "      <td>2881.493182</td>\n",
       "      <td>4767.854448</td>\n",
       "      <td>3.0</td>\n",
       "      <td>256.75</td>\n",
       "      <td>816.5</td>\n",
       "      <td>3922.00</td>\n",
       "      <td>40827.0</td>\n",
       "    </tr>\n",
       "    <tr>\n",
       "      <th>Delicatessen</th>\n",
       "      <td>440.0</td>\n",
       "      <td>1524.870455</td>\n",
       "      <td>2820.105937</td>\n",
       "      <td>3.0</td>\n",
       "      <td>408.25</td>\n",
       "      <td>965.5</td>\n",
       "      <td>1820.25</td>\n",
       "      <td>47943.0</td>\n",
       "    </tr>\n",
       "    <tr>\n",
       "      <th>Total_Products</th>\n",
       "      <td>440.0</td>\n",
       "      <td>33226.136364</td>\n",
       "      <td>26356.301730</td>\n",
       "      <td>904.0</td>\n",
       "      <td>17448.75</td>\n",
       "      <td>27492.0</td>\n",
       "      <td>41307.50</td>\n",
       "      <td>199891.0</td>\n",
       "    </tr>\n",
       "  </tbody>\n",
       "</table>\n",
       "</div>"
      ],
      "text/plain": [
       "                  count          mean           std    min       25%      50%  \\\n",
       "Buyer/Spender     440.0    220.500000    127.161315    1.0    110.75    220.5   \n",
       "Fresh             440.0  12000.297727  12647.328865    3.0   3127.75   8504.0   \n",
       "Milk              440.0   5796.265909   7380.377175   55.0   1533.00   3627.0   \n",
       "Grocery           440.0   7951.277273   9503.162829    3.0   2153.00   4755.5   \n",
       "Frozen            440.0   3071.931818   4854.673333   25.0    742.25   1526.0   \n",
       "Detergents_Paper  440.0   2881.493182   4767.854448    3.0    256.75    816.5   \n",
       "Delicatessen      440.0   1524.870455   2820.105937    3.0    408.25    965.5   \n",
       "Total_Products    440.0  33226.136364  26356.301730  904.0  17448.75  27492.0   \n",
       "\n",
       "                       75%       max  \n",
       "Buyer/Spender       330.25     440.0  \n",
       "Fresh             16933.75  112151.0  \n",
       "Milk               7190.25   73498.0  \n",
       "Grocery           10655.75   92780.0  \n",
       "Frozen             3554.25   60869.0  \n",
       "Detergents_Paper   3922.00   40827.0  \n",
       "Delicatessen       1820.25   47943.0  \n",
       "Total_Products    41307.50  199891.0  "
      ]
     },
     "metadata": {},
     "output_type": "display_data"
    }
   ],
   "source": [
    "display(df.describe().T)"
   ]
  },
  {
   "cell_type": "markdown",
   "metadata": {},
   "source": [
    "We can clearly see that in Milk,Grocery,Frozen,Detergents_Paper and Delicatessen the 75 percentile value and max value is very far, these can be possible outliers. We will verify this later using boxplot"
   ]
  },
  {
   "cell_type": "code",
   "execution_count": 7,
   "metadata": {},
   "outputs": [
    {
     "name": "stdout",
     "output_type": "stream",
     "text": [
      "REGIONWISE DATA\n"
     ]
    },
    {
     "data": {
      "text/html": [
       "<div>\n",
       "<style scoped>\n",
       "    .dataframe tbody tr th:only-of-type {\n",
       "        vertical-align: middle;\n",
       "    }\n",
       "\n",
       "    .dataframe tbody tr th {\n",
       "        vertical-align: top;\n",
       "    }\n",
       "\n",
       "    .dataframe thead th {\n",
       "        text-align: right;\n",
       "    }\n",
       "</style>\n",
       "<table border=\"1\" class=\"dataframe\">\n",
       "  <thead>\n",
       "    <tr style=\"text-align: right;\">\n",
       "      <th></th>\n",
       "      <th>Region</th>\n",
       "      <th>Buyer/Spender</th>\n",
       "      <th>Fresh</th>\n",
       "      <th>Milk</th>\n",
       "      <th>Grocery</th>\n",
       "      <th>Frozen</th>\n",
       "      <th>Detergents_Paper</th>\n",
       "      <th>Delicatessen</th>\n",
       "      <th>Total_Products</th>\n",
       "    </tr>\n",
       "  </thead>\n",
       "  <tbody>\n",
       "    <tr>\n",
       "      <th>0</th>\n",
       "      <td>Lisbon</td>\n",
       "      <td>18095</td>\n",
       "      <td>854833</td>\n",
       "      <td>422454</td>\n",
       "      <td>570037</td>\n",
       "      <td>231026</td>\n",
       "      <td>204136</td>\n",
       "      <td>104327</td>\n",
       "      <td>2386813</td>\n",
       "    </tr>\n",
       "    <tr>\n",
       "      <th>1</th>\n",
       "      <td>Oporto</td>\n",
       "      <td>14899</td>\n",
       "      <td>464721</td>\n",
       "      <td>239144</td>\n",
       "      <td>433274</td>\n",
       "      <td>190132</td>\n",
       "      <td>173311</td>\n",
       "      <td>54506</td>\n",
       "      <td>1555088</td>\n",
       "    </tr>\n",
       "    <tr>\n",
       "      <th>2</th>\n",
       "      <td>Other</td>\n",
       "      <td>64026</td>\n",
       "      <td>3960577</td>\n",
       "      <td>1888759</td>\n",
       "      <td>2495251</td>\n",
       "      <td>930492</td>\n",
       "      <td>890410</td>\n",
       "      <td>512110</td>\n",
       "      <td>10677599</td>\n",
       "    </tr>\n",
       "  </tbody>\n",
       "</table>\n",
       "</div>"
      ],
      "text/plain": [
       "   Region  Buyer/Spender    Fresh     Milk  Grocery  Frozen  Detergents_Paper  \\\n",
       "0  Lisbon          18095   854833   422454   570037  231026            204136   \n",
       "1  Oporto          14899   464721   239144   433274  190132            173311   \n",
       "2   Other          64026  3960577  1888759  2495251  930492            890410   \n",
       "\n",
       "   Delicatessen  Total_Products  \n",
       "0        104327         2386813  \n",
       "1         54506         1555088  \n",
       "2        512110        10677599  "
      ]
     },
     "metadata": {},
     "output_type": "display_data"
    },
    {
     "name": "stdout",
     "output_type": "stream",
     "text": [
      " \n"
     ]
    },
    {
     "data": {
      "image/png": "[encoded data removed]",
      "text/plain": [
       "<Figure size 576x360 with 1 Axes>"
      ]
     },
     "metadata": {},
     "output_type": "display_data"
    },
    {
     "name": "stdout",
     "output_type": "stream",
     "text": [
      "CHANNEL DATA\n"
     ]
    },
    {
     "data": {
      "text/html": [
       "<div>\n",
       "<style scoped>\n",
       "    .dataframe tbody tr th:only-of-type {\n",
       "        vertical-align: middle;\n",
       "    }\n",
       "\n",
       "    .dataframe tbody tr th {\n",
       "        vertical-align: top;\n",
       "    }\n",
       "\n",
       "    .dataframe thead th {\n",
       "        text-align: right;\n",
       "    }\n",
       "</style>\n",
       "<table border=\"1\" class=\"dataframe\">\n",
       "  <thead>\n",
       "    <tr style=\"text-align: right;\">\n",
       "      <th></th>\n",
       "      <th>Channel</th>\n",
       "      <th>Buyer/Spender</th>\n",
       "      <th>Fresh</th>\n",
       "      <th>Milk</th>\n",
       "      <th>Grocery</th>\n",
       "      <th>Frozen</th>\n",
       "      <th>Detergents_Paper</th>\n",
       "      <th>Delicatessen</th>\n",
       "      <th>Total_Products</th>\n",
       "    </tr>\n",
       "  </thead>\n",
       "  <tbody>\n",
       "    <tr>\n",
       "      <th>0</th>\n",
       "      <td>Hotel</td>\n",
       "      <td>71034</td>\n",
       "      <td>4015717</td>\n",
       "      <td>1028614</td>\n",
       "      <td>1180717</td>\n",
       "      <td>1116979</td>\n",
       "      <td>235587</td>\n",
       "      <td>421955</td>\n",
       "      <td>7999569</td>\n",
       "    </tr>\n",
       "    <tr>\n",
       "      <th>1</th>\n",
       "      <td>Retail</td>\n",
       "      <td>25986</td>\n",
       "      <td>1264414</td>\n",
       "      <td>1521743</td>\n",
       "      <td>2317845</td>\n",
       "      <td>234671</td>\n",
       "      <td>1032270</td>\n",
       "      <td>248988</td>\n",
       "      <td>6619931</td>\n",
       "    </tr>\n",
       "  </tbody>\n",
       "</table>\n",
       "</div>"
      ],
      "text/plain": [
       "  Channel  Buyer/Spender    Fresh     Milk  Grocery   Frozen  \\\n",
       "0   Hotel          71034  4015717  1028614  1180717  1116979   \n",
       "1  Retail          25986  1264414  1521743  2317845   234671   \n",
       "\n",
       "   Detergents_Paper  Delicatessen  Total_Products  \n",
       "0            235587        421955         7999569  \n",
       "1           1032270        248988         6619931  "
      ]
     },
     "metadata": {},
     "output_type": "display_data"
    },
    {
     "data": {
      "image/png": "[encoded data removed]",
      "text/plain": [
       "<Figure size 576x360 with 1 Axes>"
      ]
     },
     "metadata": {},
     "output_type": "display_data"
    },
    {
     "name": "stdout",
     "output_type": "stream",
     "text": [
      " \n",
      "REGION + CHANNEL DATA\n"
     ]
    },
    {
     "data": {
      "text/html": [
       "<div>\n",
       "<style scoped>\n",
       "    .dataframe tbody tr th:only-of-type {\n",
       "        vertical-align: middle;\n",
       "    }\n",
       "\n",
       "    .dataframe tbody tr th {\n",
       "        vertical-align: top;\n",
       "    }\n",
       "\n",
       "    .dataframe thead th {\n",
       "        text-align: right;\n",
       "    }\n",
       "</style>\n",
       "<table border=\"1\" class=\"dataframe\">\n",
       "  <thead>\n",
       "    <tr style=\"text-align: right;\">\n",
       "      <th></th>\n",
       "      <th>Region</th>\n",
       "      <th>Channel</th>\n",
       "      <th>Total_Products</th>\n",
       "    </tr>\n",
       "  </thead>\n",
       "  <tbody>\n",
       "    <tr>\n",
       "      <th>0</th>\n",
       "      <td>Lisbon</td>\n",
       "      <td>Hotel</td>\n",
       "      <td>1538342</td>\n",
       "    </tr>\n",
       "    <tr>\n",
       "      <th>1</th>\n",
       "      <td>Lisbon</td>\n",
       "      <td>Retail</td>\n",
       "      <td>848471</td>\n",
       "    </tr>\n",
       "    <tr>\n",
       "      <th>2</th>\n",
       "      <td>Oporto</td>\n",
       "      <td>Hotel</td>\n",
       "      <td>719150</td>\n",
       "    </tr>\n",
       "    <tr>\n",
       "      <th>3</th>\n",
       "      <td>Oporto</td>\n",
       "      <td>Retail</td>\n",
       "      <td>835938</td>\n",
       "    </tr>\n",
       "    <tr>\n",
       "      <th>4</th>\n",
       "      <td>Other</td>\n",
       "      <td>Hotel</td>\n",
       "      <td>5742077</td>\n",
       "    </tr>\n",
       "    <tr>\n",
       "      <th>5</th>\n",
       "      <td>Other</td>\n",
       "      <td>Retail</td>\n",
       "      <td>4935522</td>\n",
       "    </tr>\n",
       "  </tbody>\n",
       "</table>\n",
       "</div>"
      ],
      "text/plain": [
       "   Region Channel  Total_Products\n",
       "0  Lisbon   Hotel         1538342\n",
       "1  Lisbon  Retail          848471\n",
       "2  Oporto   Hotel          719150\n",
       "3  Oporto  Retail          835938\n",
       "4   Other   Hotel         5742077\n",
       "5   Other  Retail         4935522"
      ]
     },
     "metadata": {},
     "output_type": "display_data"
    },
    {
     "data": {
      "image/png": "[encoded data removed]",
      "text/plain": [
       "<Figure size 576x360 with 1 Axes>"
      ]
     },
     "metadata": {},
     "output_type": "display_data"
    }
   ],
   "source": [
    "df_reg=df.groupby(['Region']).sum()\n",
    "df_reg.reset_index(inplace=True)\n",
    "print('REGIONWISE DATA')\n",
    "display(df_reg)\n",
    "print(' ')\n",
    "\n",
    "plt.figure(figsize=(8,5))\n",
    "ax=sns.barplot(y=df_reg['Total_Products'],x=df_reg['Region'],palette='winter_r')\n",
    "for p in ax.patches:\n",
    "    x=p.get_bbox().get_points()[:,0]\n",
    "    y=p.get_bbox().get_points()[1,1]\n",
    "    #print(x,y)\n",
    "    ax.annotate(str(round(y/df['Total_Products'].sum()*100,2))+'%', (x.mean(), y), \n",
    "            ha='center', va='bottom')\n",
    "    \n",
    "plt.title('Region Vs Total Products',fontdict={'fontsize': 15, 'fontweight': 'medium'})\n",
    "plt.xlabel('Region',fontdict={'fontsize': 15})\n",
    "plt.ylabel('Total Products',fontdict={'fontsize': 15})\n",
    "\n",
    "plt.savefig('df_reg.png')\n",
    "plt.show()\n",
    "\n",
    "#########################################################################################################\n",
    "\n",
    "df_channel=df.groupby(['Channel']).sum()\n",
    "df_channel.reset_index(inplace=True)\n",
    "print('CHANNEL DATA')\n",
    "display(df_channel)\n",
    "\n",
    "plt.figure(figsize=(8,5))\n",
    "ax=sns.barplot(y=df_channel['Total_Products'],x=df_channel['Channel'],palette='Set2')\n",
    "for p in ax.patches:\n",
    "    x=p.get_bbox().get_points()[:,0]\n",
    "    y=p.get_bbox().get_points()[1,1]\n",
    "    #print(x,y)\n",
    "    ax.annotate(str(round(y/df['Total_Products'].sum()*100,2))+'%', (x.mean(), y), \n",
    "            ha='center', va='bottom')\n",
    "    \n",
    "plt.title('Channel Vs Total Products',fontdict={'fontsize': 15, 'fontweight': 'medium'})\n",
    "plt.xlabel('Channel',fontdict={'fontsize': 15})\n",
    "plt.ylabel('Total Products',fontdict={'fontsize': 15})\n",
    "plt.savefig('df_channel.png')\n",
    "plt.show()\n",
    "\n",
    "#########################################################################################################\n",
    "print(' ')\n",
    "df_channel_reg=pd.DataFrame(df.groupby(['Region','Channel']).sum()['Total_Products'])\n",
    "df_channel_reg.reset_index(inplace=True)\n",
    "print('REGION + CHANNEL DATA')\n",
    "display(df_channel_reg)\n",
    "\n",
    "plt.figure(figsize=(8,5))\n",
    "ax=sns.barplot(y=df_channel_reg['Total_Products'],x=df_channel_reg['Region'],hue=df_channel_reg['Channel'],palette='winter_r')\n",
    "for p in ax.patches:\n",
    "    x=p.get_bbox().get_points()[:,0]\n",
    "    y=p.get_bbox().get_points()[1,1]\n",
    "    #print(x)\n",
    "    ax.annotate(str(round(y/df['Total_Products'].sum()*100,2))+'%', (x.mean(), y), \n",
    "            ha='center', va='bottom')\n",
    "plt.title('Region and Channel Vs Total Products',fontdict={'fontsize': 15, 'fontweight': 'medium'})\n",
    "plt.xlabel('Region',fontdict={'fontsize': 15})\n",
    "plt.ylabel('Total Products',fontdict={'fontsize': 15})    \n",
    "plt.savefig('df_channel_reg.png')"
   ]
  },
  {
   "cell_type": "markdown",
   "metadata": {},
   "source": [
    "###### \n",
    "-Other Regions are spending more compared to Lisbon and Oporto\n",
    "\n",
    "-Hotels are spending more compared to Retail\n",
    "\n",
    "\n",
    "--Retail in all Regions is spending less than Hotel"
   ]
  },
  {
   "cell_type": "markdown",
   "metadata": {},
   "source": [
    "## 1.2 There are 6 different varieties of items are considered. Do all varieties show similar behaviour across Region and Channel?  Provide justification for your answer"
   ]
  },
  {
   "cell_type": "code",
   "execution_count": 8,
   "metadata": {},
   "outputs": [],
   "source": [
    "def color_red(val): \n",
    "    if val > 10000:\n",
    "        color = 'red'\n",
    "    elif val> 5000 and val <10000:\n",
    "        color='blue'\n",
    "    else:\n",
    "        color='black'\n",
    "    return 'color: % s' % color "
   ]
  },
  {
   "cell_type": "code",
   "execution_count": 9,
   "metadata": {
    "scrolled": false
   },
   "outputs": [
    {
     "name": "stdout",
     "output_type": "stream",
     "text": [
      "Behaviour of Items across CHANNEL\n"
     ]
    },
    {
     "data": {
      "image/png": "[encoded data removed]",
      "text/plain": [
       "<Figure size 720x360 with 1 Axes>"
      ]
     },
     "metadata": {},
     "output_type": "display_data"
    },
    {
     "name": "stdout",
     "output_type": "stream",
     "text": [
      "Hotel\n"
     ]
    },
    {
     "data": {
      "text/html": [
       "<style  type=\"text/css\" >\n",
       "#T_33867ae8_21a2_11eb_9e12_002b67a31ea4row0_col0,#T_33867ae8_21a2_11eb_9e12_002b67a31ea4row0_col1,#T_33867ae8_21a2_11eb_9e12_002b67a31ea4row0_col5,#T_33867ae8_21a2_11eb_9e12_002b67a31ea4row0_col6,#T_33867ae8_21a2_11eb_9e12_002b67a31ea4row1_col6,#T_33867ae8_21a2_11eb_9e12_002b67a31ea4row2_col6,#T_33867ae8_21a2_11eb_9e12_002b67a31ea4row3_col6,#T_33867ae8_21a2_11eb_9e12_002b67a31ea4row5_col6,#T_33867ae8_21a2_11eb_9e12_002b67a31ea4row6_col0,#T_33867ae8_21a2_11eb_9e12_002b67a31ea4row6_col1,#T_33867ae8_21a2_11eb_9e12_002b67a31ea4row6_col3,#T_33867ae8_21a2_11eb_9e12_002b67a31ea4row6_col4,#T_33867ae8_21a2_11eb_9e12_002b67a31ea4row6_col5,#T_33867ae8_21a2_11eb_9e12_002b67a31ea4row6_col6{\n",
       "            color:  red;\n",
       "        }#T_33867ae8_21a2_11eb_9e12_002b67a31ea4row0_col2,#T_33867ae8_21a2_11eb_9e12_002b67a31ea4row0_col3,#T_33867ae8_21a2_11eb_9e12_002b67a31ea4row1_col0,#T_33867ae8_21a2_11eb_9e12_002b67a31ea4row1_col1,#T_33867ae8_21a2_11eb_9e12_002b67a31ea4row1_col2,#T_33867ae8_21a2_11eb_9e12_002b67a31ea4row1_col3,#T_33867ae8_21a2_11eb_9e12_002b67a31ea4row1_col4,#T_33867ae8_21a2_11eb_9e12_002b67a31ea4row1_col5,#T_33867ae8_21a2_11eb_9e12_002b67a31ea4row2_col0,#T_33867ae8_21a2_11eb_9e12_002b67a31ea4row2_col1,#T_33867ae8_21a2_11eb_9e12_002b67a31ea4row2_col2,#T_33867ae8_21a2_11eb_9e12_002b67a31ea4row2_col3,#T_33867ae8_21a2_11eb_9e12_002b67a31ea4row2_col4,#T_33867ae8_21a2_11eb_9e12_002b67a31ea4row3_col0,#T_33867ae8_21a2_11eb_9e12_002b67a31ea4row3_col2,#T_33867ae8_21a2_11eb_9e12_002b67a31ea4row3_col3,#T_33867ae8_21a2_11eb_9e12_002b67a31ea4row3_col4,#T_33867ae8_21a2_11eb_9e12_002b67a31ea4row3_col5,#T_33867ae8_21a2_11eb_9e12_002b67a31ea4row4_col0,#T_33867ae8_21a2_11eb_9e12_002b67a31ea4row4_col1,#T_33867ae8_21a2_11eb_9e12_002b67a31ea4row4_col2,#T_33867ae8_21a2_11eb_9e12_002b67a31ea4row4_col3,#T_33867ae8_21a2_11eb_9e12_002b67a31ea4row4_col4,#T_33867ae8_21a2_11eb_9e12_002b67a31ea4row4_col5,#T_33867ae8_21a2_11eb_9e12_002b67a31ea4row5_col0,#T_33867ae8_21a2_11eb_9e12_002b67a31ea4row5_col1,#T_33867ae8_21a2_11eb_9e12_002b67a31ea4row5_col2,#T_33867ae8_21a2_11eb_9e12_002b67a31ea4row5_col3,#T_33867ae8_21a2_11eb_9e12_002b67a31ea4row5_col4,#T_33867ae8_21a2_11eb_9e12_002b67a31ea4row5_col5,#T_33867ae8_21a2_11eb_9e12_002b67a31ea4row6_col2{\n",
       "            color:  black;\n",
       "        }#T_33867ae8_21a2_11eb_9e12_002b67a31ea4row0_col4,#T_33867ae8_21a2_11eb_9e12_002b67a31ea4row2_col5,#T_33867ae8_21a2_11eb_9e12_002b67a31ea4row3_col1,#T_33867ae8_21a2_11eb_9e12_002b67a31ea4row4_col6{\n",
       "            color:  blue;\n",
       "        }</style><table id=\"T_33867ae8_21a2_11eb_9e12_002b67a31ea4\" ><thead>    <tr>        <th class=\"blank level0\" ></th>        <th class=\"col_heading level0 col0\" >mean</th>        <th class=\"col_heading level0 col1\" >std</th>        <th class=\"col_heading level0 col2\" >min</th>        <th class=\"col_heading level0 col3\" >25%</th>        <th class=\"col_heading level0 col4\" >50%</th>        <th class=\"col_heading level0 col5\" >75%</th>        <th class=\"col_heading level0 col6\" >max</th>    </tr></thead><tbody>\n",
       "                <tr>\n",
       "                        <th id=\"T_33867ae8_21a2_11eb_9e12_002b67a31ea4level0_row0\" class=\"row_heading level0 row0\" >Fresh</th>\n",
       "                        <td id=\"T_33867ae8_21a2_11eb_9e12_002b67a31ea4row0_col0\" class=\"data row0 col0\" >13475.560403</td>\n",
       "                        <td id=\"T_33867ae8_21a2_11eb_9e12_002b67a31ea4row0_col1\" class=\"data row0 col1\" >13831.687502</td>\n",
       "                        <td id=\"T_33867ae8_21a2_11eb_9e12_002b67a31ea4row0_col2\" class=\"data row0 col2\" >3.000000</td>\n",
       "                        <td id=\"T_33867ae8_21a2_11eb_9e12_002b67a31ea4row0_col3\" class=\"data row0 col3\" >4070.250000</td>\n",
       "                        <td id=\"T_33867ae8_21a2_11eb_9e12_002b67a31ea4row0_col4\" class=\"data row0 col4\" >9581.500000</td>\n",
       "                        <td id=\"T_33867ae8_21a2_11eb_9e12_002b67a31ea4row0_col5\" class=\"data row0 col5\" >18274.750000</td>\n",
       "                        <td id=\"T_33867ae8_21a2_11eb_9e12_002b67a31ea4row0_col6\" class=\"data row0 col6\" >112151.000000</td>\n",
       "            </tr>\n",
       "            <tr>\n",
       "                        <th id=\"T_33867ae8_21a2_11eb_9e12_002b67a31ea4level0_row1\" class=\"row_heading level0 row1\" >Milk</th>\n",
       "                        <td id=\"T_33867ae8_21a2_11eb_9e12_002b67a31ea4row1_col0\" class=\"data row1 col0\" >3451.724832</td>\n",
       "                        <td id=\"T_33867ae8_21a2_11eb_9e12_002b67a31ea4row1_col1\" class=\"data row1 col1\" >4352.165571</td>\n",
       "                        <td id=\"T_33867ae8_21a2_11eb_9e12_002b67a31ea4row1_col2\" class=\"data row1 col2\" >55.000000</td>\n",
       "                        <td id=\"T_33867ae8_21a2_11eb_9e12_002b67a31ea4row1_col3\" class=\"data row1 col3\" >1164.500000</td>\n",
       "                        <td id=\"T_33867ae8_21a2_11eb_9e12_002b67a31ea4row1_col4\" class=\"data row1 col4\" >2157.000000</td>\n",
       "                        <td id=\"T_33867ae8_21a2_11eb_9e12_002b67a31ea4row1_col5\" class=\"data row1 col5\" >4029.500000</td>\n",
       "                        <td id=\"T_33867ae8_21a2_11eb_9e12_002b67a31ea4row1_col6\" class=\"data row1 col6\" >43950.000000</td>\n",
       "            </tr>\n",
       "            <tr>\n",
       "                        <th id=\"T_33867ae8_21a2_11eb_9e12_002b67a31ea4level0_row2\" class=\"row_heading level0 row2\" >Grocery</th>\n",
       "                        <td id=\"T_33867ae8_21a2_11eb_9e12_002b67a31ea4row2_col0\" class=\"data row2 col0\" >3962.137584</td>\n",
       "                        <td id=\"T_33867ae8_21a2_11eb_9e12_002b67a31ea4row2_col1\" class=\"data row2 col1\" >3545.513391</td>\n",
       "                        <td id=\"T_33867ae8_21a2_11eb_9e12_002b67a31ea4row2_col2\" class=\"data row2 col2\" >3.000000</td>\n",
       "                        <td id=\"T_33867ae8_21a2_11eb_9e12_002b67a31ea4row2_col3\" class=\"data row2 col3\" >1703.750000</td>\n",
       "                        <td id=\"T_33867ae8_21a2_11eb_9e12_002b67a31ea4row2_col4\" class=\"data row2 col4\" >2684.000000</td>\n",
       "                        <td id=\"T_33867ae8_21a2_11eb_9e12_002b67a31ea4row2_col5\" class=\"data row2 col5\" >5076.750000</td>\n",
       "                        <td id=\"T_33867ae8_21a2_11eb_9e12_002b67a31ea4row2_col6\" class=\"data row2 col6\" >21042.000000</td>\n",
       "            </tr>\n",
       "            <tr>\n",
       "                        <th id=\"T_33867ae8_21a2_11eb_9e12_002b67a31ea4level0_row3\" class=\"row_heading level0 row3\" >Frozen</th>\n",
       "                        <td id=\"T_33867ae8_21a2_11eb_9e12_002b67a31ea4row3_col0\" class=\"data row3 col0\" >3748.251678</td>\n",
       "                        <td id=\"T_33867ae8_21a2_11eb_9e12_002b67a31ea4row3_col1\" class=\"data row3 col1\" >5643.912500</td>\n",
       "                        <td id=\"T_33867ae8_21a2_11eb_9e12_002b67a31ea4row3_col2\" class=\"data row3 col2\" >25.000000</td>\n",
       "                        <td id=\"T_33867ae8_21a2_11eb_9e12_002b67a31ea4row3_col3\" class=\"data row3 col3\" >830.000000</td>\n",
       "                        <td id=\"T_33867ae8_21a2_11eb_9e12_002b67a31ea4row3_col4\" class=\"data row3 col4\" >2057.500000</td>\n",
       "                        <td id=\"T_33867ae8_21a2_11eb_9e12_002b67a31ea4row3_col5\" class=\"data row3 col5\" >4558.750000</td>\n",
       "                        <td id=\"T_33867ae8_21a2_11eb_9e12_002b67a31ea4row3_col6\" class=\"data row3 col6\" >60869.000000</td>\n",
       "            </tr>\n",
       "            <tr>\n",
       "                        <th id=\"T_33867ae8_21a2_11eb_9e12_002b67a31ea4level0_row4\" class=\"row_heading level0 row4\" >Detergents_Paper</th>\n",
       "                        <td id=\"T_33867ae8_21a2_11eb_9e12_002b67a31ea4row4_col0\" class=\"data row4 col0\" >790.560403</td>\n",
       "                        <td id=\"T_33867ae8_21a2_11eb_9e12_002b67a31ea4row4_col1\" class=\"data row4 col1\" >1104.093673</td>\n",
       "                        <td id=\"T_33867ae8_21a2_11eb_9e12_002b67a31ea4row4_col2\" class=\"data row4 col2\" >3.000000</td>\n",
       "                        <td id=\"T_33867ae8_21a2_11eb_9e12_002b67a31ea4row4_col3\" class=\"data row4 col3\" >183.250000</td>\n",
       "                        <td id=\"T_33867ae8_21a2_11eb_9e12_002b67a31ea4row4_col4\" class=\"data row4 col4\" >385.500000</td>\n",
       "                        <td id=\"T_33867ae8_21a2_11eb_9e12_002b67a31ea4row4_col5\" class=\"data row4 col5\" >899.500000</td>\n",
       "                        <td id=\"T_33867ae8_21a2_11eb_9e12_002b67a31ea4row4_col6\" class=\"data row4 col6\" >6907.000000</td>\n",
       "            </tr>\n",
       "            <tr>\n",
       "                        <th id=\"T_33867ae8_21a2_11eb_9e12_002b67a31ea4level0_row5\" class=\"row_heading level0 row5\" >Delicatessen</th>\n",
       "                        <td id=\"T_33867ae8_21a2_11eb_9e12_002b67a31ea4row5_col0\" class=\"data row5 col0\" >1415.956376</td>\n",
       "                        <td id=\"T_33867ae8_21a2_11eb_9e12_002b67a31ea4row5_col1\" class=\"data row5 col1\" >3147.426922</td>\n",
       "                        <td id=\"T_33867ae8_21a2_11eb_9e12_002b67a31ea4row5_col2\" class=\"data row5 col2\" >3.000000</td>\n",
       "                        <td id=\"T_33867ae8_21a2_11eb_9e12_002b67a31ea4row5_col3\" class=\"data row5 col3\" >379.000000</td>\n",
       "                        <td id=\"T_33867ae8_21a2_11eb_9e12_002b67a31ea4row5_col4\" class=\"data row5 col4\" >821.000000</td>\n",
       "                        <td id=\"T_33867ae8_21a2_11eb_9e12_002b67a31ea4row5_col5\" class=\"data row5 col5\" >1548.000000</td>\n",
       "                        <td id=\"T_33867ae8_21a2_11eb_9e12_002b67a31ea4row5_col6\" class=\"data row5 col6\" >47943.000000</td>\n",
       "            </tr>\n",
       "            <tr>\n",
       "                        <th id=\"T_33867ae8_21a2_11eb_9e12_002b67a31ea4level0_row6\" class=\"row_heading level0 row6\" >Total_Products</th>\n",
       "                        <td id=\"T_33867ae8_21a2_11eb_9e12_002b67a31ea4row6_col0\" class=\"data row6 col0\" >26844.191275</td>\n",
       "                        <td id=\"T_33867ae8_21a2_11eb_9e12_002b67a31ea4row6_col1\" class=\"data row6 col1\" >22164.839073</td>\n",
       "                        <td id=\"T_33867ae8_21a2_11eb_9e12_002b67a31ea4row6_col2\" class=\"data row6 col2\" >904.000000</td>\n",
       "                        <td id=\"T_33867ae8_21a2_11eb_9e12_002b67a31ea4row6_col3\" class=\"data row6 col3\" >13859.250000</td>\n",
       "                        <td id=\"T_33867ae8_21a2_11eb_9e12_002b67a31ea4row6_col4\" class=\"data row6 col4\" >21254.500000</td>\n",
       "                        <td id=\"T_33867ae8_21a2_11eb_9e12_002b67a31ea4row6_col5\" class=\"data row6 col5\" >32113.750000</td>\n",
       "                        <td id=\"T_33867ae8_21a2_11eb_9e12_002b67a31ea4row6_col6\" class=\"data row6 col6\" >190169.000000</td>\n",
       "            </tr>\n",
       "    </tbody></table>"
      ],
      "text/plain": [
       "<pandas.io.formats.style.Styler at 0xcf3fb8>"
      ]
     },
     "metadata": {},
     "output_type": "display_data"
    },
    {
     "name": "stdout",
     "output_type": "stream",
     "text": [
      "Retail\n"
     ]
    },
    {
     "data": {
      "text/html": [
       "<style  type=\"text/css\" >\n",
       "#T_338ae4b6_21a2_11eb_bca9_002b67a31ea4row0_col0,#T_338ae4b6_21a2_11eb_bca9_002b67a31ea4row0_col1,#T_338ae4b6_21a2_11eb_bca9_002b67a31ea4row0_col4,#T_338ae4b6_21a2_11eb_bca9_002b67a31ea4row1_col1,#T_338ae4b6_21a2_11eb_bca9_002b67a31ea4row1_col3,#T_338ae4b6_21a2_11eb_bca9_002b67a31ea4row1_col4,#T_338ae4b6_21a2_11eb_bca9_002b67a31ea4row2_col3,#T_338ae4b6_21a2_11eb_bca9_002b67a31ea4row4_col0,#T_338ae4b6_21a2_11eb_bca9_002b67a31ea4row4_col1,#T_338ae4b6_21a2_11eb_bca9_002b67a31ea4row4_col4,#T_338ae4b6_21a2_11eb_bca9_002b67a31ea4row4_col5{\n",
       "            color:  blue;\n",
       "        }#T_338ae4b6_21a2_11eb_bca9_002b67a31ea4row0_col2,#T_338ae4b6_21a2_11eb_bca9_002b67a31ea4row0_col3,#T_338ae4b6_21a2_11eb_bca9_002b67a31ea4row1_col2,#T_338ae4b6_21a2_11eb_bca9_002b67a31ea4row2_col2,#T_338ae4b6_21a2_11eb_bca9_002b67a31ea4row3_col0,#T_338ae4b6_21a2_11eb_bca9_002b67a31ea4row3_col1,#T_338ae4b6_21a2_11eb_bca9_002b67a31ea4row3_col2,#T_338ae4b6_21a2_11eb_bca9_002b67a31ea4row3_col3,#T_338ae4b6_21a2_11eb_bca9_002b67a31ea4row3_col4,#T_338ae4b6_21a2_11eb_bca9_002b67a31ea4row3_col5,#T_338ae4b6_21a2_11eb_bca9_002b67a31ea4row4_col2,#T_338ae4b6_21a2_11eb_bca9_002b67a31ea4row4_col3,#T_338ae4b6_21a2_11eb_bca9_002b67a31ea4row5_col0,#T_338ae4b6_21a2_11eb_bca9_002b67a31ea4row5_col1,#T_338ae4b6_21a2_11eb_bca9_002b67a31ea4row5_col2,#T_338ae4b6_21a2_11eb_bca9_002b67a31ea4row5_col3,#T_338ae4b6_21a2_11eb_bca9_002b67a31ea4row5_col4,#T_338ae4b6_21a2_11eb_bca9_002b67a31ea4row5_col5{\n",
       "            color:  black;\n",
       "        }#T_338ae4b6_21a2_11eb_bca9_002b67a31ea4row0_col5,#T_338ae4b6_21a2_11eb_bca9_002b67a31ea4row0_col6,#T_338ae4b6_21a2_11eb_bca9_002b67a31ea4row1_col0,#T_338ae4b6_21a2_11eb_bca9_002b67a31ea4row1_col5,#T_338ae4b6_21a2_11eb_bca9_002b67a31ea4row1_col6,#T_338ae4b6_21a2_11eb_bca9_002b67a31ea4row2_col0,#T_338ae4b6_21a2_11eb_bca9_002b67a31ea4row2_col1,#T_338ae4b6_21a2_11eb_bca9_002b67a31ea4row2_col4,#T_338ae4b6_21a2_11eb_bca9_002b67a31ea4row2_col5,#T_338ae4b6_21a2_11eb_bca9_002b67a31ea4row2_col6,#T_338ae4b6_21a2_11eb_bca9_002b67a31ea4row3_col6,#T_338ae4b6_21a2_11eb_bca9_002b67a31ea4row4_col6,#T_338ae4b6_21a2_11eb_bca9_002b67a31ea4row5_col6,#T_338ae4b6_21a2_11eb_bca9_002b67a31ea4row6_col0,#T_338ae4b6_21a2_11eb_bca9_002b67a31ea4row6_col1,#T_338ae4b6_21a2_11eb_bca9_002b67a31ea4row6_col2,#T_338ae4b6_21a2_11eb_bca9_002b67a31ea4row6_col3,#T_338ae4b6_21a2_11eb_bca9_002b67a31ea4row6_col4,#T_338ae4b6_21a2_11eb_bca9_002b67a31ea4row6_col5,#T_338ae4b6_21a2_11eb_bca9_002b67a31ea4row6_col6{\n",
       "            color:  red;\n",
       "        }</style><table id=\"T_338ae4b6_21a2_11eb_bca9_002b67a31ea4\" ><thead>    <tr>        <th class=\"blank level0\" ></th>        <th class=\"col_heading level0 col0\" >mean</th>        <th class=\"col_heading level0 col1\" >std</th>        <th class=\"col_heading level0 col2\" >min</th>        <th class=\"col_heading level0 col3\" >25%</th>        <th class=\"col_heading level0 col4\" >50%</th>        <th class=\"col_heading level0 col5\" >75%</th>        <th class=\"col_heading level0 col6\" >max</th>    </tr></thead><tbody>\n",
       "                <tr>\n",
       "                        <th id=\"T_338ae4b6_21a2_11eb_bca9_002b67a31ea4level0_row0\" class=\"row_heading level0 row0\" >Fresh</th>\n",
       "                        <td id=\"T_338ae4b6_21a2_11eb_bca9_002b67a31ea4row0_col0\" class=\"data row0 col0\" >8904.323944</td>\n",
       "                        <td id=\"T_338ae4b6_21a2_11eb_bca9_002b67a31ea4row0_col1\" class=\"data row0 col1\" >8987.714750</td>\n",
       "                        <td id=\"T_338ae4b6_21a2_11eb_bca9_002b67a31ea4row0_col2\" class=\"data row0 col2\" >18.000000</td>\n",
       "                        <td id=\"T_338ae4b6_21a2_11eb_bca9_002b67a31ea4row0_col3\" class=\"data row0 col3\" >2347.750000</td>\n",
       "                        <td id=\"T_338ae4b6_21a2_11eb_bca9_002b67a31ea4row0_col4\" class=\"data row0 col4\" >5993.500000</td>\n",
       "                        <td id=\"T_338ae4b6_21a2_11eb_bca9_002b67a31ea4row0_col5\" class=\"data row0 col5\" >12229.750000</td>\n",
       "                        <td id=\"T_338ae4b6_21a2_11eb_bca9_002b67a31ea4row0_col6\" class=\"data row0 col6\" >44466.000000</td>\n",
       "            </tr>\n",
       "            <tr>\n",
       "                        <th id=\"T_338ae4b6_21a2_11eb_bca9_002b67a31ea4level0_row1\" class=\"row_heading level0 row1\" >Milk</th>\n",
       "                        <td id=\"T_338ae4b6_21a2_11eb_bca9_002b67a31ea4row1_col0\" class=\"data row1 col0\" >10716.500000</td>\n",
       "                        <td id=\"T_338ae4b6_21a2_11eb_bca9_002b67a31ea4row1_col1\" class=\"data row1 col1\" >9679.631351</td>\n",
       "                        <td id=\"T_338ae4b6_21a2_11eb_bca9_002b67a31ea4row1_col2\" class=\"data row1 col2\" >928.000000</td>\n",
       "                        <td id=\"T_338ae4b6_21a2_11eb_bca9_002b67a31ea4row1_col3\" class=\"data row1 col3\" >5938.000000</td>\n",
       "                        <td id=\"T_338ae4b6_21a2_11eb_bca9_002b67a31ea4row1_col4\" class=\"data row1 col4\" >7812.000000</td>\n",
       "                        <td id=\"T_338ae4b6_21a2_11eb_bca9_002b67a31ea4row1_col5\" class=\"data row1 col5\" >12162.750000</td>\n",
       "                        <td id=\"T_338ae4b6_21a2_11eb_bca9_002b67a31ea4row1_col6\" class=\"data row1 col6\" >73498.000000</td>\n",
       "            </tr>\n",
       "            <tr>\n",
       "                        <th id=\"T_338ae4b6_21a2_11eb_bca9_002b67a31ea4level0_row2\" class=\"row_heading level0 row2\" >Grocery</th>\n",
       "                        <td id=\"T_338ae4b6_21a2_11eb_bca9_002b67a31ea4row2_col0\" class=\"data row2 col0\" >16322.852113</td>\n",
       "                        <td id=\"T_338ae4b6_21a2_11eb_bca9_002b67a31ea4row2_col1\" class=\"data row2 col1\" >12267.318094</td>\n",
       "                        <td id=\"T_338ae4b6_21a2_11eb_bca9_002b67a31ea4row2_col2\" class=\"data row2 col2\" >2743.000000</td>\n",
       "                        <td id=\"T_338ae4b6_21a2_11eb_bca9_002b67a31ea4row2_col3\" class=\"data row2 col3\" >9245.250000</td>\n",
       "                        <td id=\"T_338ae4b6_21a2_11eb_bca9_002b67a31ea4row2_col4\" class=\"data row2 col4\" >12390.000000</td>\n",
       "                        <td id=\"T_338ae4b6_21a2_11eb_bca9_002b67a31ea4row2_col5\" class=\"data row2 col5\" >20183.500000</td>\n",
       "                        <td id=\"T_338ae4b6_21a2_11eb_bca9_002b67a31ea4row2_col6\" class=\"data row2 col6\" >92780.000000</td>\n",
       "            </tr>\n",
       "            <tr>\n",
       "                        <th id=\"T_338ae4b6_21a2_11eb_bca9_002b67a31ea4level0_row3\" class=\"row_heading level0 row3\" >Frozen</th>\n",
       "                        <td id=\"T_338ae4b6_21a2_11eb_bca9_002b67a31ea4row3_col0\" class=\"data row3 col0\" >1652.612676</td>\n",
       "                        <td id=\"T_338ae4b6_21a2_11eb_bca9_002b67a31ea4row3_col1\" class=\"data row3 col1\" >1812.803662</td>\n",
       "                        <td id=\"T_338ae4b6_21a2_11eb_bca9_002b67a31ea4row3_col2\" class=\"data row3 col2\" >33.000000</td>\n",
       "                        <td id=\"T_338ae4b6_21a2_11eb_bca9_002b67a31ea4row3_col3\" class=\"data row3 col3\" >534.250000</td>\n",
       "                        <td id=\"T_338ae4b6_21a2_11eb_bca9_002b67a31ea4row3_col4\" class=\"data row3 col4\" >1081.000000</td>\n",
       "                        <td id=\"T_338ae4b6_21a2_11eb_bca9_002b67a31ea4row3_col5\" class=\"data row3 col5\" >2146.750000</td>\n",
       "                        <td id=\"T_338ae4b6_21a2_11eb_bca9_002b67a31ea4row3_col6\" class=\"data row3 col6\" >11559.000000</td>\n",
       "            </tr>\n",
       "            <tr>\n",
       "                        <th id=\"T_338ae4b6_21a2_11eb_bca9_002b67a31ea4level0_row4\" class=\"row_heading level0 row4\" >Detergents_Paper</th>\n",
       "                        <td id=\"T_338ae4b6_21a2_11eb_bca9_002b67a31ea4row4_col0\" class=\"data row4 col0\" >7269.507042</td>\n",
       "                        <td id=\"T_338ae4b6_21a2_11eb_bca9_002b67a31ea4row4_col1\" class=\"data row4 col1\" >6291.089697</td>\n",
       "                        <td id=\"T_338ae4b6_21a2_11eb_bca9_002b67a31ea4row4_col2\" class=\"data row4 col2\" >332.000000</td>\n",
       "                        <td id=\"T_338ae4b6_21a2_11eb_bca9_002b67a31ea4row4_col3\" class=\"data row4 col3\" >3683.500000</td>\n",
       "                        <td id=\"T_338ae4b6_21a2_11eb_bca9_002b67a31ea4row4_col4\" class=\"data row4 col4\" >5614.500000</td>\n",
       "                        <td id=\"T_338ae4b6_21a2_11eb_bca9_002b67a31ea4row4_col5\" class=\"data row4 col5\" >8662.500000</td>\n",
       "                        <td id=\"T_338ae4b6_21a2_11eb_bca9_002b67a31ea4row4_col6\" class=\"data row4 col6\" >40827.000000</td>\n",
       "            </tr>\n",
       "            <tr>\n",
       "                        <th id=\"T_338ae4b6_21a2_11eb_bca9_002b67a31ea4level0_row5\" class=\"row_heading level0 row5\" >Delicatessen</th>\n",
       "                        <td id=\"T_338ae4b6_21a2_11eb_bca9_002b67a31ea4row5_col0\" class=\"data row5 col0\" >1753.436620</td>\n",
       "                        <td id=\"T_338ae4b6_21a2_11eb_bca9_002b67a31ea4row5_col1\" class=\"data row5 col1\" >1953.797047</td>\n",
       "                        <td id=\"T_338ae4b6_21a2_11eb_bca9_002b67a31ea4row5_col2\" class=\"data row5 col2\" >3.000000</td>\n",
       "                        <td id=\"T_338ae4b6_21a2_11eb_bca9_002b67a31ea4row5_col3\" class=\"data row5 col3\" >566.750000</td>\n",
       "                        <td id=\"T_338ae4b6_21a2_11eb_bca9_002b67a31ea4row5_col4\" class=\"data row5 col4\" >1350.000000</td>\n",
       "                        <td id=\"T_338ae4b6_21a2_11eb_bca9_002b67a31ea4row5_col5\" class=\"data row5 col5\" >2156.000000</td>\n",
       "                        <td id=\"T_338ae4b6_21a2_11eb_bca9_002b67a31ea4row5_col6\" class=\"data row5 col6\" >16523.000000</td>\n",
       "            </tr>\n",
       "            <tr>\n",
       "                        <th id=\"T_338ae4b6_21a2_11eb_bca9_002b67a31ea4level0_row6\" class=\"row_heading level0 row6\" >Total_Products</th>\n",
       "                        <td id=\"T_338ae4b6_21a2_11eb_bca9_002b67a31ea4row6_col0\" class=\"data row6 col0\" >46619.232394</td>\n",
       "                        <td id=\"T_338ae4b6_21a2_11eb_bca9_002b67a31ea4row6_col1\" class=\"data row6 col1\" >29346.866491</td>\n",
       "                        <td id=\"T_338ae4b6_21a2_11eb_bca9_002b67a31ea4row6_col2\" class=\"data row6 col2\" >14993.000000</td>\n",
       "                        <td id=\"T_338ae4b6_21a2_11eb_bca9_002b67a31ea4row6_col3\" class=\"data row6 col3\" >30147.250000</td>\n",
       "                        <td id=\"T_338ae4b6_21a2_11eb_bca9_002b67a31ea4row6_col4\" class=\"data row6 col4\" >37139.000000</td>\n",
       "                        <td id=\"T_338ae4b6_21a2_11eb_bca9_002b67a31ea4row6_col5\" class=\"data row6 col5\" >51650.500000</td>\n",
       "                        <td id=\"T_338ae4b6_21a2_11eb_bca9_002b67a31ea4row6_col6\" class=\"data row6 col6\" >199891.000000</td>\n",
       "            </tr>\n",
       "    </tbody></table>"
      ],
      "text/plain": [
       "<pandas.io.formats.style.Styler at 0x5a08f8>"
      ]
     },
     "metadata": {},
     "output_type": "display_data"
    },
    {
     "name": "stdout",
     "output_type": "stream",
     "text": [
      "Behaviour of Items across REGION\n"
     ]
    },
    {
     "data": {
      "image/png": "[encoded data removed]",
      "text/plain": [
       "<Figure size 720x576 with 1 Axes>"
      ]
     },
     "metadata": {},
     "output_type": "display_data"
    },
    {
     "name": "stdout",
     "output_type": "stream",
     "text": [
      "Lisbon\n"
     ]
    },
    {
     "data": {
      "text/html": [
       "<style  type=\"text/css\" >\n",
       "#T_33c28e1c_21a2_11eb_8ba5_002b67a31ea4row0_col0,#T_33c28e1c_21a2_11eb_8ba5_002b67a31ea4row0_col1,#T_33c28e1c_21a2_11eb_8ba5_002b67a31ea4row0_col5,#T_33c28e1c_21a2_11eb_8ba5_002b67a31ea4row0_col6,#T_33c28e1c_21a2_11eb_8ba5_002b67a31ea4row1_col6,#T_33c28e1c_21a2_11eb_8ba5_002b67a31ea4row2_col6,#T_33c28e1c_21a2_11eb_8ba5_002b67a31ea4row3_col6,#T_33c28e1c_21a2_11eb_8ba5_002b67a31ea4row4_col6,#T_33c28e1c_21a2_11eb_8ba5_002b67a31ea4row6_col0,#T_33c28e1c_21a2_11eb_8ba5_002b67a31ea4row6_col1,#T_33c28e1c_21a2_11eb_8ba5_002b67a31ea4row6_col3,#T_33c28e1c_21a2_11eb_8ba5_002b67a31ea4row6_col4,#T_33c28e1c_21a2_11eb_8ba5_002b67a31ea4row6_col5,#T_33c28e1c_21a2_11eb_8ba5_002b67a31ea4row6_col6{\n",
       "            color:  red;\n",
       "        }#T_33c28e1c_21a2_11eb_8ba5_002b67a31ea4row0_col2,#T_33c28e1c_21a2_11eb_8ba5_002b67a31ea4row0_col3,#T_33c28e1c_21a2_11eb_8ba5_002b67a31ea4row1_col2,#T_33c28e1c_21a2_11eb_8ba5_002b67a31ea4row1_col3,#T_33c28e1c_21a2_11eb_8ba5_002b67a31ea4row1_col4,#T_33c28e1c_21a2_11eb_8ba5_002b67a31ea4row2_col2,#T_33c28e1c_21a2_11eb_8ba5_002b67a31ea4row2_col3,#T_33c28e1c_21a2_11eb_8ba5_002b67a31ea4row2_col4,#T_33c28e1c_21a2_11eb_8ba5_002b67a31ea4row3_col0,#T_33c28e1c_21a2_11eb_8ba5_002b67a31ea4row3_col1,#T_33c28e1c_21a2_11eb_8ba5_002b67a31ea4row3_col2,#T_33c28e1c_21a2_11eb_8ba5_002b67a31ea4row3_col3,#T_33c28e1c_21a2_11eb_8ba5_002b67a31ea4row3_col4,#T_33c28e1c_21a2_11eb_8ba5_002b67a31ea4row3_col5,#T_33c28e1c_21a2_11eb_8ba5_002b67a31ea4row4_col0,#T_33c28e1c_21a2_11eb_8ba5_002b67a31ea4row4_col1,#T_33c28e1c_21a2_11eb_8ba5_002b67a31ea4row4_col2,#T_33c28e1c_21a2_11eb_8ba5_002b67a31ea4row4_col3,#T_33c28e1c_21a2_11eb_8ba5_002b67a31ea4row4_col4,#T_33c28e1c_21a2_11eb_8ba5_002b67a31ea4row4_col5,#T_33c28e1c_21a2_11eb_8ba5_002b67a31ea4row5_col0,#T_33c28e1c_21a2_11eb_8ba5_002b67a31ea4row5_col1,#T_33c28e1c_21a2_11eb_8ba5_002b67a31ea4row5_col2,#T_33c28e1c_21a2_11eb_8ba5_002b67a31ea4row5_col3,#T_33c28e1c_21a2_11eb_8ba5_002b67a31ea4row5_col4,#T_33c28e1c_21a2_11eb_8ba5_002b67a31ea4row5_col5,#T_33c28e1c_21a2_11eb_8ba5_002b67a31ea4row6_col2{\n",
       "            color:  black;\n",
       "        }#T_33c28e1c_21a2_11eb_8ba5_002b67a31ea4row0_col4,#T_33c28e1c_21a2_11eb_8ba5_002b67a31ea4row1_col0,#T_33c28e1c_21a2_11eb_8ba5_002b67a31ea4row1_col1,#T_33c28e1c_21a2_11eb_8ba5_002b67a31ea4row1_col5,#T_33c28e1c_21a2_11eb_8ba5_002b67a31ea4row2_col0,#T_33c28e1c_21a2_11eb_8ba5_002b67a31ea4row2_col1,#T_33c28e1c_21a2_11eb_8ba5_002b67a31ea4row2_col5,#T_33c28e1c_21a2_11eb_8ba5_002b67a31ea4row5_col6{\n",
       "            color:  blue;\n",
       "        }</style><table id=\"T_33c28e1c_21a2_11eb_8ba5_002b67a31ea4\" ><thead>    <tr>        <th class=\"blank level0\" ></th>        <th class=\"col_heading level0 col0\" >mean</th>        <th class=\"col_heading level0 col1\" >std</th>        <th class=\"col_heading level0 col2\" >min</th>        <th class=\"col_heading level0 col3\" >25%</th>        <th class=\"col_heading level0 col4\" >50%</th>        <th class=\"col_heading level0 col5\" >75%</th>        <th class=\"col_heading level0 col6\" >max</th>    </tr></thead><tbody>\n",
       "                <tr>\n",
       "                        <th id=\"T_33c28e1c_21a2_11eb_8ba5_002b67a31ea4level0_row0\" class=\"row_heading level0 row0\" >Fresh</th>\n",
       "                        <td id=\"T_33c28e1c_21a2_11eb_8ba5_002b67a31ea4row0_col0\" class=\"data row0 col0\" >11101.727273</td>\n",
       "                        <td id=\"T_33c28e1c_21a2_11eb_8ba5_002b67a31ea4row0_col1\" class=\"data row0 col1\" >11557.438575</td>\n",
       "                        <td id=\"T_33c28e1c_21a2_11eb_8ba5_002b67a31ea4row0_col2\" class=\"data row0 col2\" >18.000000</td>\n",
       "                        <td id=\"T_33c28e1c_21a2_11eb_8ba5_002b67a31ea4row0_col3\" class=\"data row0 col3\" >2806.000000</td>\n",
       "                        <td id=\"T_33c28e1c_21a2_11eb_8ba5_002b67a31ea4row0_col4\" class=\"data row0 col4\" >7363.000000</td>\n",
       "                        <td id=\"T_33c28e1c_21a2_11eb_8ba5_002b67a31ea4row0_col5\" class=\"data row0 col5\" >15218.000000</td>\n",
       "                        <td id=\"T_33c28e1c_21a2_11eb_8ba5_002b67a31ea4row0_col6\" class=\"data row0 col6\" >56083.000000</td>\n",
       "            </tr>\n",
       "            <tr>\n",
       "                        <th id=\"T_33c28e1c_21a2_11eb_8ba5_002b67a31ea4level0_row1\" class=\"row_heading level0 row1\" >Milk</th>\n",
       "                        <td id=\"T_33c28e1c_21a2_11eb_8ba5_002b67a31ea4row1_col0\" class=\"data row1 col0\" >5486.415584</td>\n",
       "                        <td id=\"T_33c28e1c_21a2_11eb_8ba5_002b67a31ea4row1_col1\" class=\"data row1 col1\" >5704.856079</td>\n",
       "                        <td id=\"T_33c28e1c_21a2_11eb_8ba5_002b67a31ea4row1_col2\" class=\"data row1 col2\" >258.000000</td>\n",
       "                        <td id=\"T_33c28e1c_21a2_11eb_8ba5_002b67a31ea4row1_col3\" class=\"data row1 col3\" >1372.000000</td>\n",
       "                        <td id=\"T_33c28e1c_21a2_11eb_8ba5_002b67a31ea4row1_col4\" class=\"data row1 col4\" >3748.000000</td>\n",
       "                        <td id=\"T_33c28e1c_21a2_11eb_8ba5_002b67a31ea4row1_col5\" class=\"data row1 col5\" >7503.000000</td>\n",
       "                        <td id=\"T_33c28e1c_21a2_11eb_8ba5_002b67a31ea4row1_col6\" class=\"data row1 col6\" >28326.000000</td>\n",
       "            </tr>\n",
       "            <tr>\n",
       "                        <th id=\"T_33c28e1c_21a2_11eb_8ba5_002b67a31ea4level0_row2\" class=\"row_heading level0 row2\" >Grocery</th>\n",
       "                        <td id=\"T_33c28e1c_21a2_11eb_8ba5_002b67a31ea4row2_col0\" class=\"data row2 col0\" >7403.077922</td>\n",
       "                        <td id=\"T_33c28e1c_21a2_11eb_8ba5_002b67a31ea4row2_col1\" class=\"data row2 col1\" >8496.287728</td>\n",
       "                        <td id=\"T_33c28e1c_21a2_11eb_8ba5_002b67a31ea4row2_col2\" class=\"data row2 col2\" >489.000000</td>\n",
       "                        <td id=\"T_33c28e1c_21a2_11eb_8ba5_002b67a31ea4row2_col3\" class=\"data row2 col3\" >2046.000000</td>\n",
       "                        <td id=\"T_33c28e1c_21a2_11eb_8ba5_002b67a31ea4row2_col4\" class=\"data row2 col4\" >3838.000000</td>\n",
       "                        <td id=\"T_33c28e1c_21a2_11eb_8ba5_002b67a31ea4row2_col5\" class=\"data row2 col5\" >9490.000000</td>\n",
       "                        <td id=\"T_33c28e1c_21a2_11eb_8ba5_002b67a31ea4row2_col6\" class=\"data row2 col6\" >39694.000000</td>\n",
       "            </tr>\n",
       "            <tr>\n",
       "                        <th id=\"T_33c28e1c_21a2_11eb_8ba5_002b67a31ea4level0_row3\" class=\"row_heading level0 row3\" >Frozen</th>\n",
       "                        <td id=\"T_33c28e1c_21a2_11eb_8ba5_002b67a31ea4row3_col0\" class=\"data row3 col0\" >3000.337662</td>\n",
       "                        <td id=\"T_33c28e1c_21a2_11eb_8ba5_002b67a31ea4row3_col1\" class=\"data row3 col1\" >3092.143894</td>\n",
       "                        <td id=\"T_33c28e1c_21a2_11eb_8ba5_002b67a31ea4row3_col2\" class=\"data row3 col2\" >61.000000</td>\n",
       "                        <td id=\"T_33c28e1c_21a2_11eb_8ba5_002b67a31ea4row3_col3\" class=\"data row3 col3\" >950.000000</td>\n",
       "                        <td id=\"T_33c28e1c_21a2_11eb_8ba5_002b67a31ea4row3_col4\" class=\"data row3 col4\" >1801.000000</td>\n",
       "                        <td id=\"T_33c28e1c_21a2_11eb_8ba5_002b67a31ea4row3_col5\" class=\"data row3 col5\" >4324.000000</td>\n",
       "                        <td id=\"T_33c28e1c_21a2_11eb_8ba5_002b67a31ea4row3_col6\" class=\"data row3 col6\" >18711.000000</td>\n",
       "            </tr>\n",
       "            <tr>\n",
       "                        <th id=\"T_33c28e1c_21a2_11eb_8ba5_002b67a31ea4level0_row4\" class=\"row_heading level0 row4\" >Detergents_Paper</th>\n",
       "                        <td id=\"T_33c28e1c_21a2_11eb_8ba5_002b67a31ea4row4_col0\" class=\"data row4 col0\" >2651.116883</td>\n",
       "                        <td id=\"T_33c28e1c_21a2_11eb_8ba5_002b67a31ea4row4_col1\" class=\"data row4 col1\" >4208.462708</td>\n",
       "                        <td id=\"T_33c28e1c_21a2_11eb_8ba5_002b67a31ea4row4_col2\" class=\"data row4 col2\" >5.000000</td>\n",
       "                        <td id=\"T_33c28e1c_21a2_11eb_8ba5_002b67a31ea4row4_col3\" class=\"data row4 col3\" >284.000000</td>\n",
       "                        <td id=\"T_33c28e1c_21a2_11eb_8ba5_002b67a31ea4row4_col4\" class=\"data row4 col4\" >737.000000</td>\n",
       "                        <td id=\"T_33c28e1c_21a2_11eb_8ba5_002b67a31ea4row4_col5\" class=\"data row4 col5\" >3593.000000</td>\n",
       "                        <td id=\"T_33c28e1c_21a2_11eb_8ba5_002b67a31ea4row4_col6\" class=\"data row4 col6\" >19410.000000</td>\n",
       "            </tr>\n",
       "            <tr>\n",
       "                        <th id=\"T_33c28e1c_21a2_11eb_8ba5_002b67a31ea4level0_row5\" class=\"row_heading level0 row5\" >Delicatessen</th>\n",
       "                        <td id=\"T_33c28e1c_21a2_11eb_8ba5_002b67a31ea4row5_col0\" class=\"data row5 col0\" >1354.896104</td>\n",
       "                        <td id=\"T_33c28e1c_21a2_11eb_8ba5_002b67a31ea4row5_col1\" class=\"data row5 col1\" >1345.423340</td>\n",
       "                        <td id=\"T_33c28e1c_21a2_11eb_8ba5_002b67a31ea4row5_col2\" class=\"data row5 col2\" >7.000000</td>\n",
       "                        <td id=\"T_33c28e1c_21a2_11eb_8ba5_002b67a31ea4row5_col3\" class=\"data row5 col3\" >548.000000</td>\n",
       "                        <td id=\"T_33c28e1c_21a2_11eb_8ba5_002b67a31ea4row5_col4\" class=\"data row5 col4\" >806.000000</td>\n",
       "                        <td id=\"T_33c28e1c_21a2_11eb_8ba5_002b67a31ea4row5_col5\" class=\"data row5 col5\" >1775.000000</td>\n",
       "                        <td id=\"T_33c28e1c_21a2_11eb_8ba5_002b67a31ea4row5_col6\" class=\"data row5 col6\" >6854.000000</td>\n",
       "            </tr>\n",
       "            <tr>\n",
       "                        <th id=\"T_33c28e1c_21a2_11eb_8ba5_002b67a31ea4level0_row6\" class=\"row_heading level0 row6\" >Total_Products</th>\n",
       "                        <td id=\"T_33c28e1c_21a2_11eb_8ba5_002b67a31ea4row6_col0\" class=\"data row6 col0\" >30997.571429</td>\n",
       "                        <td id=\"T_33c28e1c_21a2_11eb_8ba5_002b67a31ea4row6_col1\" class=\"data row6 col1\" >20321.813773</td>\n",
       "                        <td id=\"T_33c28e1c_21a2_11eb_8ba5_002b67a31ea4row6_col2\" class=\"data row6 col2\" >4925.000000</td>\n",
       "                        <td id=\"T_33c28e1c_21a2_11eb_8ba5_002b67a31ea4row6_col3\" class=\"data row6 col3\" >17184.000000</td>\n",
       "                        <td id=\"T_33c28e1c_21a2_11eb_8ba5_002b67a31ea4row6_col4\" class=\"data row6 col4\" >25385.000000</td>\n",
       "                        <td id=\"T_33c28e1c_21a2_11eb_8ba5_002b67a31ea4row6_col5\" class=\"data row6 col5\" >38699.000000</td>\n",
       "                        <td id=\"T_33c28e1c_21a2_11eb_8ba5_002b67a31ea4row6_col6\" class=\"data row6 col6\" >107155.000000</td>\n",
       "            </tr>\n",
       "    </tbody></table>"
      ],
      "text/plain": [
       "<pandas.io.formats.style.Styler at 0xccdc10>"
      ]
     },
     "metadata": {},
     "output_type": "display_data"
    },
    {
     "name": "stdout",
     "output_type": "stream",
     "text": [
      "Oporto\n"
     ]
    },
    {
     "data": {
      "text/html": [
       "<style  type=\"text/css\" >\n",
       "#T_33c6aaea_21a2_11eb_bc56_002b67a31ea4row0_col0,#T_33c6aaea_21a2_11eb_bc56_002b67a31ea4row0_col1,#T_33c6aaea_21a2_11eb_bc56_002b67a31ea4row0_col4,#T_33c6aaea_21a2_11eb_bc56_002b67a31ea4row1_col0,#T_33c6aaea_21a2_11eb_bc56_002b67a31ea4row1_col1,#T_33c6aaea_21a2_11eb_bc56_002b67a31ea4row1_col5,#T_33c6aaea_21a2_11eb_bc56_002b67a31ea4row2_col0,#T_33c6aaea_21a2_11eb_bc56_002b67a31ea4row2_col4,#T_33c6aaea_21a2_11eb_bc56_002b67a31ea4row3_col1,#T_33c6aaea_21a2_11eb_bc56_002b67a31ea4row4_col1,#T_33c6aaea_21a2_11eb_bc56_002b67a31ea4row5_col6{\n",
       "            color:  blue;\n",
       "        }#T_33c6aaea_21a2_11eb_bc56_002b67a31ea4row0_col2,#T_33c6aaea_21a2_11eb_bc56_002b67a31ea4row0_col3,#T_33c6aaea_21a2_11eb_bc56_002b67a31ea4row1_col2,#T_33c6aaea_21a2_11eb_bc56_002b67a31ea4row1_col3,#T_33c6aaea_21a2_11eb_bc56_002b67a31ea4row1_col4,#T_33c6aaea_21a2_11eb_bc56_002b67a31ea4row2_col2,#T_33c6aaea_21a2_11eb_bc56_002b67a31ea4row2_col3,#T_33c6aaea_21a2_11eb_bc56_002b67a31ea4row3_col0,#T_33c6aaea_21a2_11eb_bc56_002b67a31ea4row3_col2,#T_33c6aaea_21a2_11eb_bc56_002b67a31ea4row3_col3,#T_33c6aaea_21a2_11eb_bc56_002b67a31ea4row3_col4,#T_33c6aaea_21a2_11eb_bc56_002b67a31ea4row3_col5,#T_33c6aaea_21a2_11eb_bc56_002b67a31ea4row4_col0,#T_33c6aaea_21a2_11eb_bc56_002b67a31ea4row4_col2,#T_33c6aaea_21a2_11eb_bc56_002b67a31ea4row4_col3,#T_33c6aaea_21a2_11eb_bc56_002b67a31ea4row4_col4,#T_33c6aaea_21a2_11eb_bc56_002b67a31ea4row4_col5,#T_33c6aaea_21a2_11eb_bc56_002b67a31ea4row5_col0,#T_33c6aaea_21a2_11eb_bc56_002b67a31ea4row5_col1,#T_33c6aaea_21a2_11eb_bc56_002b67a31ea4row5_col2,#T_33c6aaea_21a2_11eb_bc56_002b67a31ea4row5_col3,#T_33c6aaea_21a2_11eb_bc56_002b67a31ea4row5_col4,#T_33c6aaea_21a2_11eb_bc56_002b67a31ea4row5_col5,#T_33c6aaea_21a2_11eb_bc56_002b67a31ea4row6_col2{\n",
       "            color:  black;\n",
       "        }#T_33c6aaea_21a2_11eb_bc56_002b67a31ea4row0_col5,#T_33c6aaea_21a2_11eb_bc56_002b67a31ea4row0_col6,#T_33c6aaea_21a2_11eb_bc56_002b67a31ea4row1_col6,#T_33c6aaea_21a2_11eb_bc56_002b67a31ea4row2_col1,#T_33c6aaea_21a2_11eb_bc56_002b67a31ea4row2_col5,#T_33c6aaea_21a2_11eb_bc56_002b67a31ea4row2_col6,#T_33c6aaea_21a2_11eb_bc56_002b67a31ea4row3_col6,#T_33c6aaea_21a2_11eb_bc56_002b67a31ea4row4_col6,#T_33c6aaea_21a2_11eb_bc56_002b67a31ea4row6_col0,#T_33c6aaea_21a2_11eb_bc56_002b67a31ea4row6_col1,#T_33c6aaea_21a2_11eb_bc56_002b67a31ea4row6_col3,#T_33c6aaea_21a2_11eb_bc56_002b67a31ea4row6_col4,#T_33c6aaea_21a2_11eb_bc56_002b67a31ea4row6_col5,#T_33c6aaea_21a2_11eb_bc56_002b67a31ea4row6_col6{\n",
       "            color:  red;\n",
       "        }</style><table id=\"T_33c6aaea_21a2_11eb_bc56_002b67a31ea4\" ><thead>    <tr>        <th class=\"blank level0\" ></th>        <th class=\"col_heading level0 col0\" >mean</th>        <th class=\"col_heading level0 col1\" >std</th>        <th class=\"col_heading level0 col2\" >min</th>        <th class=\"col_heading level0 col3\" >25%</th>        <th class=\"col_heading level0 col4\" >50%</th>        <th class=\"col_heading level0 col5\" >75%</th>        <th class=\"col_heading level0 col6\" >max</th>    </tr></thead><tbody>\n",
       "                <tr>\n",
       "                        <th id=\"T_33c6aaea_21a2_11eb_bc56_002b67a31ea4level0_row0\" class=\"row_heading level0 row0\" >Fresh</th>\n",
       "                        <td id=\"T_33c6aaea_21a2_11eb_bc56_002b67a31ea4row0_col0\" class=\"data row0 col0\" >9887.680851</td>\n",
       "                        <td id=\"T_33c6aaea_21a2_11eb_bc56_002b67a31ea4row0_col1\" class=\"data row0 col1\" >8387.899211</td>\n",
       "                        <td id=\"T_33c6aaea_21a2_11eb_bc56_002b67a31ea4row0_col2\" class=\"data row0 col2\" >3.000000</td>\n",
       "                        <td id=\"T_33c6aaea_21a2_11eb_bc56_002b67a31ea4row0_col3\" class=\"data row0 col3\" >2751.500000</td>\n",
       "                        <td id=\"T_33c6aaea_21a2_11eb_bc56_002b67a31ea4row0_col4\" class=\"data row0 col4\" >8090.000000</td>\n",
       "                        <td id=\"T_33c6aaea_21a2_11eb_bc56_002b67a31ea4row0_col5\" class=\"data row0 col5\" >14925.500000</td>\n",
       "                        <td id=\"T_33c6aaea_21a2_11eb_bc56_002b67a31ea4row0_col6\" class=\"data row0 col6\" >32717.000000</td>\n",
       "            </tr>\n",
       "            <tr>\n",
       "                        <th id=\"T_33c6aaea_21a2_11eb_bc56_002b67a31ea4level0_row1\" class=\"row_heading level0 row1\" >Milk</th>\n",
       "                        <td id=\"T_33c6aaea_21a2_11eb_bc56_002b67a31ea4row1_col0\" class=\"data row1 col0\" >5088.170213</td>\n",
       "                        <td id=\"T_33c6aaea_21a2_11eb_bc56_002b67a31ea4row1_col1\" class=\"data row1 col1\" >5826.343145</td>\n",
       "                        <td id=\"T_33c6aaea_21a2_11eb_bc56_002b67a31ea4row1_col2\" class=\"data row1 col2\" >333.000000</td>\n",
       "                        <td id=\"T_33c6aaea_21a2_11eb_bc56_002b67a31ea4row1_col3\" class=\"data row1 col3\" >1430.500000</td>\n",
       "                        <td id=\"T_33c6aaea_21a2_11eb_bc56_002b67a31ea4row1_col4\" class=\"data row1 col4\" >2374.000000</td>\n",
       "                        <td id=\"T_33c6aaea_21a2_11eb_bc56_002b67a31ea4row1_col5\" class=\"data row1 col5\" >5772.500000</td>\n",
       "                        <td id=\"T_33c6aaea_21a2_11eb_bc56_002b67a31ea4row1_col6\" class=\"data row1 col6\" >25071.000000</td>\n",
       "            </tr>\n",
       "            <tr>\n",
       "                        <th id=\"T_33c6aaea_21a2_11eb_bc56_002b67a31ea4level0_row2\" class=\"row_heading level0 row2\" >Grocery</th>\n",
       "                        <td id=\"T_33c6aaea_21a2_11eb_bc56_002b67a31ea4row2_col0\" class=\"data row2 col0\" >9218.595745</td>\n",
       "                        <td id=\"T_33c6aaea_21a2_11eb_bc56_002b67a31ea4row2_col1\" class=\"data row2 col1\" >10842.745314</td>\n",
       "                        <td id=\"T_33c6aaea_21a2_11eb_bc56_002b67a31ea4row2_col2\" class=\"data row2 col2\" >1330.000000</td>\n",
       "                        <td id=\"T_33c6aaea_21a2_11eb_bc56_002b67a31ea4row2_col3\" class=\"data row2 col3\" >2792.500000</td>\n",
       "                        <td id=\"T_33c6aaea_21a2_11eb_bc56_002b67a31ea4row2_col4\" class=\"data row2 col4\" >6114.000000</td>\n",
       "                        <td id=\"T_33c6aaea_21a2_11eb_bc56_002b67a31ea4row2_col5\" class=\"data row2 col5\" >11758.500000</td>\n",
       "                        <td id=\"T_33c6aaea_21a2_11eb_bc56_002b67a31ea4row2_col6\" class=\"data row2 col6\" >67298.000000</td>\n",
       "            </tr>\n",
       "            <tr>\n",
       "                        <th id=\"T_33c6aaea_21a2_11eb_bc56_002b67a31ea4level0_row3\" class=\"row_heading level0 row3\" >Frozen</th>\n",
       "                        <td id=\"T_33c6aaea_21a2_11eb_bc56_002b67a31ea4row3_col0\" class=\"data row3 col0\" >4045.361702</td>\n",
       "                        <td id=\"T_33c6aaea_21a2_11eb_bc56_002b67a31ea4row3_col1\" class=\"data row3 col1\" >9151.784954</td>\n",
       "                        <td id=\"T_33c6aaea_21a2_11eb_bc56_002b67a31ea4row3_col2\" class=\"data row3 col2\" >131.000000</td>\n",
       "                        <td id=\"T_33c6aaea_21a2_11eb_bc56_002b67a31ea4row3_col3\" class=\"data row3 col3\" >811.500000</td>\n",
       "                        <td id=\"T_33c6aaea_21a2_11eb_bc56_002b67a31ea4row3_col4\" class=\"data row3 col4\" >1455.000000</td>\n",
       "                        <td id=\"T_33c6aaea_21a2_11eb_bc56_002b67a31ea4row3_col5\" class=\"data row3 col5\" >3272.000000</td>\n",
       "                        <td id=\"T_33c6aaea_21a2_11eb_bc56_002b67a31ea4row3_col6\" class=\"data row3 col6\" >60869.000000</td>\n",
       "            </tr>\n",
       "            <tr>\n",
       "                        <th id=\"T_33c6aaea_21a2_11eb_bc56_002b67a31ea4level0_row4\" class=\"row_heading level0 row4\" >Detergents_Paper</th>\n",
       "                        <td id=\"T_33c6aaea_21a2_11eb_bc56_002b67a31ea4row4_col0\" class=\"data row4 col0\" >3687.468085</td>\n",
       "                        <td id=\"T_33c6aaea_21a2_11eb_bc56_002b67a31ea4row4_col1\" class=\"data row4 col1\" >6514.717668</td>\n",
       "                        <td id=\"T_33c6aaea_21a2_11eb_bc56_002b67a31ea4row4_col2\" class=\"data row4 col2\" >15.000000</td>\n",
       "                        <td id=\"T_33c6aaea_21a2_11eb_bc56_002b67a31ea4row4_col3\" class=\"data row4 col3\" >282.500000</td>\n",
       "                        <td id=\"T_33c6aaea_21a2_11eb_bc56_002b67a31ea4row4_col4\" class=\"data row4 col4\" >811.000000</td>\n",
       "                        <td id=\"T_33c6aaea_21a2_11eb_bc56_002b67a31ea4row4_col5\" class=\"data row4 col5\" >4324.500000</td>\n",
       "                        <td id=\"T_33c6aaea_21a2_11eb_bc56_002b67a31ea4row4_col6\" class=\"data row4 col6\" >38102.000000</td>\n",
       "            </tr>\n",
       "            <tr>\n",
       "                        <th id=\"T_33c6aaea_21a2_11eb_bc56_002b67a31ea4level0_row5\" class=\"row_heading level0 row5\" >Delicatessen</th>\n",
       "                        <td id=\"T_33c6aaea_21a2_11eb_bc56_002b67a31ea4row5_col0\" class=\"data row5 col0\" >1159.702128</td>\n",
       "                        <td id=\"T_33c6aaea_21a2_11eb_bc56_002b67a31ea4row5_col1\" class=\"data row5 col1\" >1050.739841</td>\n",
       "                        <td id=\"T_33c6aaea_21a2_11eb_bc56_002b67a31ea4row5_col2\" class=\"data row5 col2\" >51.000000</td>\n",
       "                        <td id=\"T_33c6aaea_21a2_11eb_bc56_002b67a31ea4row5_col3\" class=\"data row5 col3\" >540.500000</td>\n",
       "                        <td id=\"T_33c6aaea_21a2_11eb_bc56_002b67a31ea4row5_col4\" class=\"data row5 col4\" >898.000000</td>\n",
       "                        <td id=\"T_33c6aaea_21a2_11eb_bc56_002b67a31ea4row5_col5\" class=\"data row5 col5\" >1538.500000</td>\n",
       "                        <td id=\"T_33c6aaea_21a2_11eb_bc56_002b67a31ea4row5_col6\" class=\"data row5 col6\" >5609.000000</td>\n",
       "            </tr>\n",
       "            <tr>\n",
       "                        <th id=\"T_33c6aaea_21a2_11eb_bc56_002b67a31ea4level0_row6\" class=\"row_heading level0 row6\" >Total_Products</th>\n",
       "                        <td id=\"T_33c6aaea_21a2_11eb_bc56_002b67a31ea4row6_col0\" class=\"data row6 col0\" >33086.978723</td>\n",
       "                        <td id=\"T_33c6aaea_21a2_11eb_bc56_002b67a31ea4row6_col1\" class=\"data row6 col1\" >24234.507325</td>\n",
       "                        <td id=\"T_33c6aaea_21a2_11eb_bc56_002b67a31ea4row6_col2\" class=\"data row6 col2\" >4129.000000</td>\n",
       "                        <td id=\"T_33c6aaea_21a2_11eb_bc56_002b67a31ea4row6_col3\" class=\"data row6 col3\" >20611.500000</td>\n",
       "                        <td id=\"T_33c6aaea_21a2_11eb_bc56_002b67a31ea4row6_col4\" class=\"data row6 col4\" >26953.000000</td>\n",
       "                        <td id=\"T_33c6aaea_21a2_11eb_bc56_002b67a31ea4row6_col5\" class=\"data row6 col5\" >36158.500000</td>\n",
       "                        <td id=\"T_33c6aaea_21a2_11eb_bc56_002b67a31ea4row6_col6\" class=\"data row6 col6\" >130877.000000</td>\n",
       "            </tr>\n",
       "    </tbody></table>"
      ],
      "text/plain": [
       "<pandas.io.formats.style.Styler at 0x5df610>"
      ]
     },
     "metadata": {},
     "output_type": "display_data"
    },
    {
     "name": "stdout",
     "output_type": "stream",
     "text": [
      "Other\n"
     ]
    },
    {
     "data": {
      "text/html": [
       "<style  type=\"text/css\" >\n",
       "#T_33cb62a0_21a2_11eb_8f9f_002b67a31ea4row0_col0,#T_33cb62a0_21a2_11eb_8f9f_002b67a31ea4row0_col1,#T_33cb62a0_21a2_11eb_8f9f_002b67a31ea4row0_col5,#T_33cb62a0_21a2_11eb_8f9f_002b67a31ea4row0_col6,#T_33cb62a0_21a2_11eb_8f9f_002b67a31ea4row1_col6,#T_33cb62a0_21a2_11eb_8f9f_002b67a31ea4row2_col5,#T_33cb62a0_21a2_11eb_8f9f_002b67a31ea4row2_col6,#T_33cb62a0_21a2_11eb_8f9f_002b67a31ea4row3_col6,#T_33cb62a0_21a2_11eb_8f9f_002b67a31ea4row4_col6,#T_33cb62a0_21a2_11eb_8f9f_002b67a31ea4row5_col6,#T_33cb62a0_21a2_11eb_8f9f_002b67a31ea4row6_col0,#T_33cb62a0_21a2_11eb_8f9f_002b67a31ea4row6_col1,#T_33cb62a0_21a2_11eb_8f9f_002b67a31ea4row6_col3,#T_33cb62a0_21a2_11eb_8f9f_002b67a31ea4row6_col4,#T_33cb62a0_21a2_11eb_8f9f_002b67a31ea4row6_col5,#T_33cb62a0_21a2_11eb_8f9f_002b67a31ea4row6_col6{\n",
       "            color:  red;\n",
       "        }#T_33cb62a0_21a2_11eb_8f9f_002b67a31ea4row0_col2,#T_33cb62a0_21a2_11eb_8f9f_002b67a31ea4row0_col3,#T_33cb62a0_21a2_11eb_8f9f_002b67a31ea4row1_col2,#T_33cb62a0_21a2_11eb_8f9f_002b67a31ea4row1_col3,#T_33cb62a0_21a2_11eb_8f9f_002b67a31ea4row1_col4,#T_33cb62a0_21a2_11eb_8f9f_002b67a31ea4row2_col2,#T_33cb62a0_21a2_11eb_8f9f_002b67a31ea4row2_col3,#T_33cb62a0_21a2_11eb_8f9f_002b67a31ea4row2_col4,#T_33cb62a0_21a2_11eb_8f9f_002b67a31ea4row3_col0,#T_33cb62a0_21a2_11eb_8f9f_002b67a31ea4row3_col1,#T_33cb62a0_21a2_11eb_8f9f_002b67a31ea4row3_col2,#T_33cb62a0_21a2_11eb_8f9f_002b67a31ea4row3_col3,#T_33cb62a0_21a2_11eb_8f9f_002b67a31ea4row3_col4,#T_33cb62a0_21a2_11eb_8f9f_002b67a31ea4row3_col5,#T_33cb62a0_21a2_11eb_8f9f_002b67a31ea4row4_col0,#T_33cb62a0_21a2_11eb_8f9f_002b67a31ea4row4_col1,#T_33cb62a0_21a2_11eb_8f9f_002b67a31ea4row4_col2,#T_33cb62a0_21a2_11eb_8f9f_002b67a31ea4row4_col3,#T_33cb62a0_21a2_11eb_8f9f_002b67a31ea4row4_col4,#T_33cb62a0_21a2_11eb_8f9f_002b67a31ea4row4_col5,#T_33cb62a0_21a2_11eb_8f9f_002b67a31ea4row5_col0,#T_33cb62a0_21a2_11eb_8f9f_002b67a31ea4row5_col1,#T_33cb62a0_21a2_11eb_8f9f_002b67a31ea4row5_col2,#T_33cb62a0_21a2_11eb_8f9f_002b67a31ea4row5_col3,#T_33cb62a0_21a2_11eb_8f9f_002b67a31ea4row5_col4,#T_33cb62a0_21a2_11eb_8f9f_002b67a31ea4row5_col5,#T_33cb62a0_21a2_11eb_8f9f_002b67a31ea4row6_col2{\n",
       "            color:  black;\n",
       "        }#T_33cb62a0_21a2_11eb_8f9f_002b67a31ea4row0_col4,#T_33cb62a0_21a2_11eb_8f9f_002b67a31ea4row1_col0,#T_33cb62a0_21a2_11eb_8f9f_002b67a31ea4row1_col1,#T_33cb62a0_21a2_11eb_8f9f_002b67a31ea4row1_col5,#T_33cb62a0_21a2_11eb_8f9f_002b67a31ea4row2_col0,#T_33cb62a0_21a2_11eb_8f9f_002b67a31ea4row2_col1{\n",
       "            color:  blue;\n",
       "        }</style><table id=\"T_33cb62a0_21a2_11eb_8f9f_002b67a31ea4\" ><thead>    <tr>        <th class=\"blank level0\" ></th>        <th class=\"col_heading level0 col0\" >mean</th>        <th class=\"col_heading level0 col1\" >std</th>        <th class=\"col_heading level0 col2\" >min</th>        <th class=\"col_heading level0 col3\" >25%</th>        <th class=\"col_heading level0 col4\" >50%</th>        <th class=\"col_heading level0 col5\" >75%</th>        <th class=\"col_heading level0 col6\" >max</th>    </tr></thead><tbody>\n",
       "                <tr>\n",
       "                        <th id=\"T_33cb62a0_21a2_11eb_8f9f_002b67a31ea4level0_row0\" class=\"row_heading level0 row0\" >Fresh</th>\n",
       "                        <td id=\"T_33cb62a0_21a2_11eb_8f9f_002b67a31ea4row0_col0\" class=\"data row0 col0\" >12533.471519</td>\n",
       "                        <td id=\"T_33cb62a0_21a2_11eb_8f9f_002b67a31ea4row0_col1\" class=\"data row0 col1\" >13389.213115</td>\n",
       "                        <td id=\"T_33cb62a0_21a2_11eb_8f9f_002b67a31ea4row0_col2\" class=\"data row0 col2\" >3.000000</td>\n",
       "                        <td id=\"T_33cb62a0_21a2_11eb_8f9f_002b67a31ea4row0_col3\" class=\"data row0 col3\" >3350.750000</td>\n",
       "                        <td id=\"T_33cb62a0_21a2_11eb_8f9f_002b67a31ea4row0_col4\" class=\"data row0 col4\" >8752.500000</td>\n",
       "                        <td id=\"T_33cb62a0_21a2_11eb_8f9f_002b67a31ea4row0_col5\" class=\"data row0 col5\" >17406.500000</td>\n",
       "                        <td id=\"T_33cb62a0_21a2_11eb_8f9f_002b67a31ea4row0_col6\" class=\"data row0 col6\" >112151.000000</td>\n",
       "            </tr>\n",
       "            <tr>\n",
       "                        <th id=\"T_33cb62a0_21a2_11eb_8f9f_002b67a31ea4level0_row1\" class=\"row_heading level0 row1\" >Milk</th>\n",
       "                        <td id=\"T_33cb62a0_21a2_11eb_8f9f_002b67a31ea4row1_col0\" class=\"data row1 col0\" >5977.085443</td>\n",
       "                        <td id=\"T_33cb62a0_21a2_11eb_8f9f_002b67a31ea4row1_col1\" class=\"data row1 col1\" >7935.463443</td>\n",
       "                        <td id=\"T_33cb62a0_21a2_11eb_8f9f_002b67a31ea4row1_col2\" class=\"data row1 col2\" >55.000000</td>\n",
       "                        <td id=\"T_33cb62a0_21a2_11eb_8f9f_002b67a31ea4row1_col3\" class=\"data row1 col3\" >1634.000000</td>\n",
       "                        <td id=\"T_33cb62a0_21a2_11eb_8f9f_002b67a31ea4row1_col4\" class=\"data row1 col4\" >3684.500000</td>\n",
       "                        <td id=\"T_33cb62a0_21a2_11eb_8f9f_002b67a31ea4row1_col5\" class=\"data row1 col5\" >7198.750000</td>\n",
       "                        <td id=\"T_33cb62a0_21a2_11eb_8f9f_002b67a31ea4row1_col6\" class=\"data row1 col6\" >73498.000000</td>\n",
       "            </tr>\n",
       "            <tr>\n",
       "                        <th id=\"T_33cb62a0_21a2_11eb_8f9f_002b67a31ea4level0_row2\" class=\"row_heading level0 row2\" >Grocery</th>\n",
       "                        <td id=\"T_33cb62a0_21a2_11eb_8f9f_002b67a31ea4row2_col0\" class=\"data row2 col0\" >7896.363924</td>\n",
       "                        <td id=\"T_33cb62a0_21a2_11eb_8f9f_002b67a31ea4row2_col1\" class=\"data row2 col1\" >9537.287778</td>\n",
       "                        <td id=\"T_33cb62a0_21a2_11eb_8f9f_002b67a31ea4row2_col2\" class=\"data row2 col2\" >3.000000</td>\n",
       "                        <td id=\"T_33cb62a0_21a2_11eb_8f9f_002b67a31ea4row2_col3\" class=\"data row2 col3\" >2141.500000</td>\n",
       "                        <td id=\"T_33cb62a0_21a2_11eb_8f9f_002b67a31ea4row2_col4\" class=\"data row2 col4\" >4732.000000</td>\n",
       "                        <td id=\"T_33cb62a0_21a2_11eb_8f9f_002b67a31ea4row2_col5\" class=\"data row2 col5\" >10559.750000</td>\n",
       "                        <td id=\"T_33cb62a0_21a2_11eb_8f9f_002b67a31ea4row2_col6\" class=\"data row2 col6\" >92780.000000</td>\n",
       "            </tr>\n",
       "            <tr>\n",
       "                        <th id=\"T_33cb62a0_21a2_11eb_8f9f_002b67a31ea4level0_row3\" class=\"row_heading level0 row3\" >Frozen</th>\n",
       "                        <td id=\"T_33cb62a0_21a2_11eb_8f9f_002b67a31ea4row3_col0\" class=\"data row3 col0\" >2944.594937</td>\n",
       "                        <td id=\"T_33cb62a0_21a2_11eb_8f9f_002b67a31ea4row3_col1\" class=\"data row3 col1\" >4260.126243</td>\n",
       "                        <td id=\"T_33cb62a0_21a2_11eb_8f9f_002b67a31ea4row3_col2\" class=\"data row3 col2\" >25.000000</td>\n",
       "                        <td id=\"T_33cb62a0_21a2_11eb_8f9f_002b67a31ea4row3_col3\" class=\"data row3 col3\" >664.750000</td>\n",
       "                        <td id=\"T_33cb62a0_21a2_11eb_8f9f_002b67a31ea4row3_col4\" class=\"data row3 col4\" >1498.000000</td>\n",
       "                        <td id=\"T_33cb62a0_21a2_11eb_8f9f_002b67a31ea4row3_col5\" class=\"data row3 col5\" >3354.750000</td>\n",
       "                        <td id=\"T_33cb62a0_21a2_11eb_8f9f_002b67a31ea4row3_col6\" class=\"data row3 col6\" >36534.000000</td>\n",
       "            </tr>\n",
       "            <tr>\n",
       "                        <th id=\"T_33cb62a0_21a2_11eb_8f9f_002b67a31ea4level0_row4\" class=\"row_heading level0 row4\" >Detergents_Paper</th>\n",
       "                        <td id=\"T_33cb62a0_21a2_11eb_8f9f_002b67a31ea4row4_col0\" class=\"data row4 col0\" >2817.753165</td>\n",
       "                        <td id=\"T_33cb62a0_21a2_11eb_8f9f_002b67a31ea4row4_col1\" class=\"data row4 col1\" >4593.051613</td>\n",
       "                        <td id=\"T_33cb62a0_21a2_11eb_8f9f_002b67a31ea4row4_col2\" class=\"data row4 col2\" >3.000000</td>\n",
       "                        <td id=\"T_33cb62a0_21a2_11eb_8f9f_002b67a31ea4row4_col3\" class=\"data row4 col3\" >251.250000</td>\n",
       "                        <td id=\"T_33cb62a0_21a2_11eb_8f9f_002b67a31ea4row4_col4\" class=\"data row4 col4\" >856.000000</td>\n",
       "                        <td id=\"T_33cb62a0_21a2_11eb_8f9f_002b67a31ea4row4_col5\" class=\"data row4 col5\" >3875.750000</td>\n",
       "                        <td id=\"T_33cb62a0_21a2_11eb_8f9f_002b67a31ea4row4_col6\" class=\"data row4 col6\" >40827.000000</td>\n",
       "            </tr>\n",
       "            <tr>\n",
       "                        <th id=\"T_33cb62a0_21a2_11eb_8f9f_002b67a31ea4level0_row5\" class=\"row_heading level0 row5\" >Delicatessen</th>\n",
       "                        <td id=\"T_33cb62a0_21a2_11eb_8f9f_002b67a31ea4row5_col0\" class=\"data row5 col0\" >1620.601266</td>\n",
       "                        <td id=\"T_33cb62a0_21a2_11eb_8f9f_002b67a31ea4row5_col1\" class=\"data row5 col1\" >3232.581660</td>\n",
       "                        <td id=\"T_33cb62a0_21a2_11eb_8f9f_002b67a31ea4row5_col2\" class=\"data row5 col2\" >3.000000</td>\n",
       "                        <td id=\"T_33cb62a0_21a2_11eb_8f9f_002b67a31ea4row5_col3\" class=\"data row5 col3\" >402.000000</td>\n",
       "                        <td id=\"T_33cb62a0_21a2_11eb_8f9f_002b67a31ea4row5_col4\" class=\"data row5 col4\" >994.000000</td>\n",
       "                        <td id=\"T_33cb62a0_21a2_11eb_8f9f_002b67a31ea4row5_col5\" class=\"data row5 col5\" >1832.750000</td>\n",
       "                        <td id=\"T_33cb62a0_21a2_11eb_8f9f_002b67a31ea4row5_col6\" class=\"data row5 col6\" >47943.000000</td>\n",
       "            </tr>\n",
       "            <tr>\n",
       "                        <th id=\"T_33cb62a0_21a2_11eb_8f9f_002b67a31ea4level0_row6\" class=\"row_heading level0 row6\" >Total_Products</th>\n",
       "                        <td id=\"T_33cb62a0_21a2_11eb_8f9f_002b67a31ea4row6_col0\" class=\"data row6 col0\" >33789.870253</td>\n",
       "                        <td id=\"T_33cb62a0_21a2_11eb_8f9f_002b67a31ea4row6_col1\" class=\"data row6 col1\" >27949.337752</td>\n",
       "                        <td id=\"T_33cb62a0_21a2_11eb_8f9f_002b67a31ea4row6_col2\" class=\"data row6 col2\" >904.000000</td>\n",
       "                        <td id=\"T_33cb62a0_21a2_11eb_8f9f_002b67a31ea4row6_col3\" class=\"data row6 col3\" >17209.250000</td>\n",
       "                        <td id=\"T_33cb62a0_21a2_11eb_8f9f_002b67a31ea4row6_col4\" class=\"data row6 col4\" >28029.000000</td>\n",
       "                        <td id=\"T_33cb62a0_21a2_11eb_8f9f_002b67a31ea4row6_col5\" class=\"data row6 col5\" >42492.250000</td>\n",
       "                        <td id=\"T_33cb62a0_21a2_11eb_8f9f_002b67a31ea4row6_col6\" class=\"data row6 col6\" >199891.000000</td>\n",
       "            </tr>\n",
       "    </tbody></table>"
      ],
      "text/plain": [
       "<pandas.io.formats.style.Styler at 0x1c7c3c58>"
      ]
     },
     "metadata": {},
     "output_type": "display_data"
    }
   ],
   "source": [
    "\n",
    "ax=df_channel[['Fresh', 'Milk', 'Grocery', 'Frozen',\n",
    "       'Detergents_Paper', 'Delicatessen']].plot(kind=\"bar\", stacked=True,figsize=(10,5),rot=0)\n",
    "\n",
    "ax.set_xticklabels(df_channel['Channel'])\n",
    "print('Behaviour of Items across CHANNEL')\n",
    "plt.title('Channel Vs 6 Varities',fontdict={'fontsize': 15, 'fontweight': 'medium'})\n",
    "plt.xlabel('Channel',fontdict={'fontsize': 15})\n",
    "plt.ylabel('Varities',fontdict={'fontsize': 15})\n",
    "plt.savefig('df_channel_prod.png')\n",
    "plt.show()\n",
    "for c in ['Hotel','Retail']:\n",
    "    print(c)\n",
    "    display(df[df['Channel']==c].describe()[1:].T.iloc[1:].style.applymap(color_red))\n",
    "\n",
    "ax=df_reg[['Fresh', 'Milk', 'Grocery', 'Frozen',\n",
    "       'Detergents_Paper', 'Delicatessen']].plot(kind=\"bar\", stacked=True,figsize=(10,8),rot=0)\n",
    "\n",
    "ax.set_xticklabels(df_reg['Region'])\n",
    "print('Behaviour of Items across REGION')\n",
    "plt.title('Region Vs 6 Varities',fontdict={'fontsize': 15, 'fontweight': 'medium'})\n",
    "plt.xlabel('Regions',fontdict={'fontsize': 15})\n",
    "plt.ylabel('Varities',fontdict={'fontsize': 15})\n",
    "plt.savefig('df_REG_prod.png')\n",
    "plt.show()\n",
    "for c in ['Lisbon','Oporto','Other']:\n",
    "    print(c)\n",
    "    display(df[df['Region']==c].describe()[1:].T.iloc[1:].style.applymap(color_red))"
   ]
  },
  {
   "cell_type": "code",
   "execution_count": 10,
   "metadata": {},
   "outputs": [
    {
     "data": {
      "image/png": "[encoded data removed]",
      "text/plain": [
       "<Figure size 720x1440 with 6 Axes>"
      ]
     },
     "metadata": {},
     "output_type": "display_data"
    }
   ],
   "source": [
    "cols=['Fresh', 'Milk', 'Grocery','Frozen', 'Detergents_Paper', 'Delicatessen']\n",
    "color=[ 'RdPu_r', 'winter', 'winter_r','Set1','Set2_r','plasma','autumn' ]\n",
    "fig, axes = plt.subplots(3,2,figsize=(10, 20))\n",
    "i=0\n",
    "j=0\n",
    "count=1\n",
    "\n",
    "for col in cols:\n",
    "    \n",
    "    sns.boxplot(ax=axes[i][j],y=col, x=\"Region\",  data=df, palette=random.choice(color))\n",
    "    #plt.show()\n",
    "    if count%2==0:\n",
    "        i+=1\n",
    "        j=0\n",
    "    else:\n",
    "        j+=1\n",
    "    count+=1\n",
    "\n",
    "\n",
    "    \n",
    "plt.savefig('df_Region_prod_out.png')"
   ]
  },
  {
   "cell_type": "code",
   "execution_count": 11,
   "metadata": {
    "scrolled": false
   },
   "outputs": [
    {
     "data": {
      "image/png": "[encoded data removed]",
      "text/plain": [
       "<Figure size 720x1440 with 6 Axes>"
      ]
     },
     "metadata": {},
     "output_type": "display_data"
    }
   ],
   "source": [
    "cols=['Fresh', 'Milk', 'Grocery','Frozen', 'Detergents_Paper', 'Delicatessen']\n",
    "color=[ 'RdPu_r', 'winter', 'winter_r','Set1','Set2_r','plasma','autumn' ]\n",
    "\n",
    "fig, axes = plt.subplots(3,2,figsize=(10, 20))\n",
    "i=0\n",
    "j=0\n",
    "count=1\n",
    "for col in cols:\n",
    "    \n",
    "    sns.boxplot(ax=axes[i][j],y=col, x=\"Channel\",  data=df, palette=random.choice(color))\n",
    "    #plt.show()\n",
    "    if count%2==0:\n",
    "        i+=1\n",
    "        j=0\n",
    "    else:\n",
    "        j+=1\n",
    "    count+=1\n",
    "plt.savefig('df_Channel_prod_o.png')"
   ]
  },
  {
   "cell_type": "markdown",
   "metadata": {},
   "source": [
    "Hotel\n",
    "-ANNUAL SPENDING IS HIGHEST ON FRESH AND LOWEST ON Detergents_Paper\n",
    "\n",
    "-People in hotel want fresh items.\n",
    "\n",
    "Retail\n",
    "-ANNUAL SPENDING IS HIGHEST ON GROCERIES AND LOWEST ON Frozen"
   ]
  },
  {
   "cell_type": "markdown",
   "metadata": {},
   "source": [
    "## 1.3 On the basis of a descriptive measure of variability, which item shows the most inconsistent behaviour? Which items show the least inconsistent behaviour?"
   ]
  },
  {
   "cell_type": "code",
   "execution_count": 12,
   "metadata": {},
   "outputs": [],
   "source": [
    "#z_scores = stats.zscore(df[['Buyer/Spender','Fresh','Milk','Grocery','Frozen','Detergents_Paper','Delicatessen','Total_Products']])\n",
    "\n",
    "#abs_z_scores = np.abs(z_scores)\n",
    "#filtered_entries = (abs_z_scores < 1).all(axis=1)\n",
    "#new_df = df[filtered_entries]\n",
    "#abs_z_scores"
   ]
  },
  {
   "cell_type": "code",
   "execution_count": 13,
   "metadata": {},
   "outputs": [],
   "source": [
    "\n",
    "#df_desc['MAD']=abs(new_df[['Buyer/Spender','Fresh','Milk','Grocery','Frozen','Detergents_Paper','Delicatessen','Total_Products']]\n",
    "#                   -df_desc['50%']).quantile(0.50)\n"
   ]
  },
  {
   "cell_type": "code",
   "execution_count": 14,
   "metadata": {},
   "outputs": [
    {
     "data": {
      "text/html": [
       "<div>\n",
       "<style scoped>\n",
       "    .dataframe tbody tr th:only-of-type {\n",
       "        vertical-align: middle;\n",
       "    }\n",
       "\n",
       "    .dataframe tbody tr th {\n",
       "        vertical-align: top;\n",
       "    }\n",
       "\n",
       "    .dataframe thead th {\n",
       "        text-align: right;\n",
       "    }\n",
       "</style>\n",
       "<table border=\"1\" class=\"dataframe\">\n",
       "  <thead>\n",
       "    <tr style=\"text-align: right;\">\n",
       "      <th></th>\n",
       "      <th>mean</th>\n",
       "      <th>std</th>\n",
       "      <th>coefficient of variation (CV)</th>\n",
       "    </tr>\n",
       "  </thead>\n",
       "  <tbody>\n",
       "    <tr>\n",
       "      <th>Fresh</th>\n",
       "      <td>12000.297727</td>\n",
       "      <td>12647.328865</td>\n",
       "      <td>1.053918</td>\n",
       "    </tr>\n",
       "    <tr>\n",
       "      <th>Milk</th>\n",
       "      <td>5796.265909</td>\n",
       "      <td>7380.377175</td>\n",
       "      <td>1.273299</td>\n",
       "    </tr>\n",
       "    <tr>\n",
       "      <th>Grocery</th>\n",
       "      <td>7951.277273</td>\n",
       "      <td>9503.162829</td>\n",
       "      <td>1.195174</td>\n",
       "    </tr>\n",
       "    <tr>\n",
       "      <th>Frozen</th>\n",
       "      <td>3071.931818</td>\n",
       "      <td>4854.673333</td>\n",
       "      <td>1.580332</td>\n",
       "    </tr>\n",
       "    <tr>\n",
       "      <th>Detergents_Paper</th>\n",
       "      <td>2881.493182</td>\n",
       "      <td>4767.854448</td>\n",
       "      <td>1.654647</td>\n",
       "    </tr>\n",
       "    <tr>\n",
       "      <th>Delicatessen</th>\n",
       "      <td>1524.870455</td>\n",
       "      <td>2820.105937</td>\n",
       "      <td>1.849407</td>\n",
       "    </tr>\n",
       "  </tbody>\n",
       "</table>\n",
       "</div>"
      ],
      "text/plain": [
       "                          mean           std  coefficient of variation (CV)\n",
       "Fresh             12000.297727  12647.328865                       1.053918\n",
       "Milk               5796.265909   7380.377175                       1.273299\n",
       "Grocery            7951.277273   9503.162829                       1.195174\n",
       "Frozen             3071.931818   4854.673333                       1.580332\n",
       "Detergents_Paper   2881.493182   4767.854448                       1.654647\n",
       "Delicatessen       1524.870455   2820.105937                       1.849407"
      ]
     },
     "metadata": {},
     "output_type": "display_data"
    },
    {
     "data": {
      "text/html": [
       "<div>\n",
       "<style scoped>\n",
       "    .dataframe tbody tr th:only-of-type {\n",
       "        vertical-align: middle;\n",
       "    }\n",
       "\n",
       "    .dataframe tbody tr th {\n",
       "        vertical-align: top;\n",
       "    }\n",
       "\n",
       "    .dataframe thead th {\n",
       "        text-align: right;\n",
       "    }\n",
       "</style>\n",
       "<table border=\"1\" class=\"dataframe\">\n",
       "  <thead>\n",
       "    <tr style=\"text-align: right;\">\n",
       "      <th></th>\n",
       "      <th>50%</th>\n",
       "      <th>std</th>\n",
       "      <th>coefficient of variation (CV)</th>\n",
       "    </tr>\n",
       "  </thead>\n",
       "  <tbody>\n",
       "    <tr>\n",
       "      <th>Fresh</th>\n",
       "      <td>8504.0</td>\n",
       "      <td>12647.328865</td>\n",
       "      <td>1.053918</td>\n",
       "    </tr>\n",
       "    <tr>\n",
       "      <th>Milk</th>\n",
       "      <td>3627.0</td>\n",
       "      <td>7380.377175</td>\n",
       "      <td>1.273299</td>\n",
       "    </tr>\n",
       "    <tr>\n",
       "      <th>Grocery</th>\n",
       "      <td>4755.5</td>\n",
       "      <td>9503.162829</td>\n",
       "      <td>1.195174</td>\n",
       "    </tr>\n",
       "    <tr>\n",
       "      <th>Frozen</th>\n",
       "      <td>1526.0</td>\n",
       "      <td>4854.673333</td>\n",
       "      <td>1.580332</td>\n",
       "    </tr>\n",
       "    <tr>\n",
       "      <th>Detergents_Paper</th>\n",
       "      <td>816.5</td>\n",
       "      <td>4767.854448</td>\n",
       "      <td>1.654647</td>\n",
       "    </tr>\n",
       "    <tr>\n",
       "      <th>Delicatessen</th>\n",
       "      <td>965.5</td>\n",
       "      <td>2820.105937</td>\n",
       "      <td>1.849407</td>\n",
       "    </tr>\n",
       "  </tbody>\n",
       "</table>\n",
       "</div>"
      ],
      "text/plain": [
       "                     50%           std  coefficient of variation (CV)\n",
       "Fresh             8504.0  12647.328865                       1.053918\n",
       "Milk              3627.0   7380.377175                       1.273299\n",
       "Grocery           4755.5   9503.162829                       1.195174\n",
       "Frozen            1526.0   4854.673333                       1.580332\n",
       "Detergents_Paper   816.5   4767.854448                       1.654647\n",
       "Delicatessen       965.5   2820.105937                       1.849407"
      ]
     },
     "metadata": {},
     "output_type": "display_data"
    }
   ],
   "source": [
    "df_desc=df.describe().T\n",
    "df_desc['coefficient of variation (CV)']=df_desc['std']/df_desc['mean']\n",
    "#df_desc['IQR']=df_desc['75%']-df_desc['25%']\n",
    "display(df_desc[['mean','std','coefficient of variation (CV)']].iloc[1:-1])\n",
    "display(df_desc[['50%','std','coefficient of variation (CV)']].iloc[1:-1])"
   ]
  },
  {
   "cell_type": "markdown",
   "metadata": {},
   "source": [
    "###### *Comparing all 6 products only Fresh Category has more CONSISTENCY as Coeff. of Variation is low \n",
    "\n",
    "###### *Delicatessen > Detergents_Paper shows INCONSISTENT Behaviour\n"
   ]
  },
  {
   "cell_type": "markdown",
   "metadata": {},
   "source": [
    "## 1.4 Are there any outliers in the data?"
   ]
  },
  {
   "cell_type": "code",
   "execution_count": 15,
   "metadata": {},
   "outputs": [],
   "source": [
    "import random"
   ]
  },
  {
   "cell_type": "code",
   "execution_count": 16,
   "metadata": {
    "scrolled": false
   },
   "outputs": [
    {
     "data": {
      "image/png": "[encoded data removed]",
      "text/plain": [
       "<Figure size 720x144 with 1 Axes>"
      ]
     },
     "metadata": {},
     "output_type": "display_data"
    },
    {
     "data": {
      "image/png": "[encoded data removed]",
      "text/plain": [
       "<Figure size 720x144 with 1 Axes>"
      ]
     },
     "metadata": {},
     "output_type": "display_data"
    },
    {
     "data": {
      "image/png": "[encoded data removed]",
      "text/plain": [
       "<Figure size 720x144 with 1 Axes>"
      ]
     },
     "metadata": {},
     "output_type": "display_data"
    },
    {
     "data": {
      "image/png": "[encoded data removed]",
      "text/plain": [
       "<Figure size 720x144 with 1 Axes>"
      ]
     },
     "metadata": {},
     "output_type": "display_data"
    },
    {
     "data": {
      "image/png": "[encoded data removed]",
      "text/plain": [
       "<Figure size 720x144 with 1 Axes>"
      ]
     },
     "metadata": {},
     "output_type": "display_data"
    },
    {
     "data": {
      "image/png": "[encoded data removed]",
      "text/plain": [
       "<Figure size 720x144 with 1 Axes>"
      ]
     },
     "metadata": {},
     "output_type": "display_data"
    },
    {
     "data": {
      "image/png": "[encoded data removed]",
      "text/plain": [
       "<Figure size 720x144 with 1 Axes>"
      ]
     },
     "metadata": {},
     "output_type": "display_data"
    },
    {
     "data": {
      "image/png": "[encoded data removed]",
      "text/plain": [
       "<Figure size 720x144 with 1 Axes>"
      ]
     },
     "metadata": {},
     "output_type": "display_data"
    }
   ],
   "source": [
    "data_plot=df[[i for i in df.columns if df[i].dtype!='object' and '%' not in i]]\n",
    "#colss=['red','green','blue','yellow','orange','indigo']\n",
    "colss=[]\n",
    "for i in range(200):\n",
    "    colss.append('#%06X' % random.randint(0, 0xFFFFFF))\n",
    "for i in range(0,len(data_plot.columns)):\n",
    "    plt.figure(figsize=(10,2))\n",
    "    c=random.choice(colss)\n",
    "    ax=sns.boxplot(data_plot[data_plot.columns[i]],color=c)\n",
    "    ax.set_title(data_plot.columns[i],color='blue')\n",
    "    \n",
    "    nam='Outliers'+str(i)+'.png'\n",
    "    plt.savefig(nam)\n",
    "\n",
    "\n",
    "plt.show()"
   ]
  },
  {
   "cell_type": "markdown",
   "metadata": {},
   "source": [
    "### All 6 items has Outliers\n",
    "\n",
    "\n"
   ]
  },
  {
   "cell_type": "markdown",
   "metadata": {},
   "source": [
    "## 1.5 On the basis of your analysis, what are your recommendations for the business? How can your analysis help the business to solve its problem? Answer from the business perspective"
   ]
  },
  {
   "cell_type": "markdown",
   "metadata": {},
   "source": [
    "For Business to grow increasing the number of Retail outlets is one way. Future is in collaboration so wherever new Hotels are opened they must collaborate with the retail stores nearby. Marketers need to implement this strategy so that all can earn profits.\n",
    "There are lot of customers who are buying in large amount, either these orders are for parties, some events or customer is storing for a long time. Keeping both the things in mind giving discount and improving the shelf life of the products is one of the improvements.\n",
    "Foreign products (Delicatessen) is not liked in Portugal. Before bringing Coffee as a beverage company launched a coffee toffee.      Off course Toffees are cheaper, this is how customers become habitual to the products.\t\t\t\t             Same way before bringing a new costly product in the market launching a cheaper variant in the market can be a good idea for the Business.\n"
   ]
  },
  {
   "cell_type": "markdown",
   "metadata": {},
   "source": [
    "-Other Regions are spending more compared to Lisbon and Oporto\n",
    "\n",
    "-Hotels are spending more compared to Retail\n",
    "\n",
    "\n",
    "--Retail in all Regions is spending less than Hotel\n",
    "\n",
    "\n",
    "Hotel\n",
    "-ANNUAL SPENDING IS HIGHEST ON FRESH AND LOWEST ON Detergents_Paper\n",
    "\n",
    "-People in hotel want fresh items.\n",
    "\n",
    "Retail\n",
    "-ANNUAL SPENDING IS HIGHEST ON GROCERIES AND LOWEST ON Frozen\n",
    "\n",
    "\n",
    "###### *Comparing all 6 products only Fresh Category has more CONSISTENCY as Coeff. of Variation is low \n",
    "\n",
    "###### *Delicatessen > Detergents_Paper shows INCONSISTENT Behaviour\n"
   ]
  },
  {
   "cell_type": "markdown",
   "metadata": {},
   "source": [
    "## PROBLEM 2"
   ]
  },
  {
   "cell_type": "code",
   "execution_count": 35,
   "metadata": {},
   "outputs": [
    {
     "data": {
      "text/html": [
       "<div>\n",
       "<style scoped>\n",
       "    .dataframe tbody tr th:only-of-type {\n",
       "        vertical-align: middle;\n",
       "    }\n",
       "\n",
       "    .dataframe tbody tr th {\n",
       "        vertical-align: top;\n",
       "    }\n",
       "\n",
       "    .dataframe thead th {\n",
       "        text-align: right;\n",
       "    }\n",
       "</style>\n",
       "<table border=\"1\" class=\"dataframe\">\n",
       "  <thead>\n",
       "    <tr style=\"text-align: right;\">\n",
       "      <th></th>\n",
       "      <th>ID</th>\n",
       "      <th>Gender</th>\n",
       "      <th>Age</th>\n",
       "      <th>Class</th>\n",
       "      <th>Major</th>\n",
       "      <th>Grad Intention</th>\n",
       "      <th>GPA</th>\n",
       "      <th>Employment</th>\n",
       "      <th>Salary</th>\n",
       "      <th>Social Networking</th>\n",
       "      <th>Satisfaction</th>\n",
       "      <th>Spending</th>\n",
       "      <th>Computer</th>\n",
       "      <th>Text Messages</th>\n",
       "    </tr>\n",
       "  </thead>\n",
       "  <tbody>\n",
       "    <tr>\n",
       "      <th>0</th>\n",
       "      <td>1</td>\n",
       "      <td>Female</td>\n",
       "      <td>20</td>\n",
       "      <td>Junior</td>\n",
       "      <td>Other</td>\n",
       "      <td>Yes</td>\n",
       "      <td>2.9</td>\n",
       "      <td>Full-Time</td>\n",
       "      <td>50.0</td>\n",
       "      <td>1</td>\n",
       "      <td>3</td>\n",
       "      <td>350</td>\n",
       "      <td>Laptop</td>\n",
       "      <td>200</td>\n",
       "    </tr>\n",
       "    <tr>\n",
       "      <th>1</th>\n",
       "      <td>2</td>\n",
       "      <td>Male</td>\n",
       "      <td>23</td>\n",
       "      <td>Senior</td>\n",
       "      <td>Management</td>\n",
       "      <td>Yes</td>\n",
       "      <td>3.6</td>\n",
       "      <td>Part-Time</td>\n",
       "      <td>25.0</td>\n",
       "      <td>1</td>\n",
       "      <td>4</td>\n",
       "      <td>360</td>\n",
       "      <td>Laptop</td>\n",
       "      <td>50</td>\n",
       "    </tr>\n",
       "    <tr>\n",
       "      <th>2</th>\n",
       "      <td>3</td>\n",
       "      <td>Male</td>\n",
       "      <td>21</td>\n",
       "      <td>Junior</td>\n",
       "      <td>Other</td>\n",
       "      <td>Yes</td>\n",
       "      <td>2.5</td>\n",
       "      <td>Part-Time</td>\n",
       "      <td>45.0</td>\n",
       "      <td>2</td>\n",
       "      <td>4</td>\n",
       "      <td>600</td>\n",
       "      <td>Laptop</td>\n",
       "      <td>200</td>\n",
       "    </tr>\n",
       "    <tr>\n",
       "      <th>3</th>\n",
       "      <td>4</td>\n",
       "      <td>Male</td>\n",
       "      <td>21</td>\n",
       "      <td>Junior</td>\n",
       "      <td>CIS</td>\n",
       "      <td>Yes</td>\n",
       "      <td>2.5</td>\n",
       "      <td>Full-Time</td>\n",
       "      <td>40.0</td>\n",
       "      <td>4</td>\n",
       "      <td>6</td>\n",
       "      <td>600</td>\n",
       "      <td>Laptop</td>\n",
       "      <td>250</td>\n",
       "    </tr>\n",
       "    <tr>\n",
       "      <th>4</th>\n",
       "      <td>5</td>\n",
       "      <td>Male</td>\n",
       "      <td>23</td>\n",
       "      <td>Senior</td>\n",
       "      <td>Other</td>\n",
       "      <td>Undecided</td>\n",
       "      <td>2.8</td>\n",
       "      <td>Unemployed</td>\n",
       "      <td>40.0</td>\n",
       "      <td>2</td>\n",
       "      <td>4</td>\n",
       "      <td>500</td>\n",
       "      <td>Laptop</td>\n",
       "      <td>100</td>\n",
       "    </tr>\n",
       "  </tbody>\n",
       "</table>\n",
       "</div>"
      ],
      "text/plain": [
       "   ID  Gender  Age   Class       Major Grad Intention  GPA  Employment  \\\n",
       "0   1  Female   20  Junior       Other            Yes  2.9   Full-Time   \n",
       "1   2    Male   23  Senior  Management            Yes  3.6   Part-Time   \n",
       "2   3    Male   21  Junior       Other            Yes  2.5   Part-Time   \n",
       "3   4    Male   21  Junior         CIS            Yes  2.5   Full-Time   \n",
       "4   5    Male   23  Senior       Other      Undecided  2.8  Unemployed   \n",
       "\n",
       "   Salary  Social Networking  Satisfaction  Spending Computer  Text Messages  \n",
       "0    50.0                  1             3       350   Laptop            200  \n",
       "1    25.0                  1             4       360   Laptop             50  \n",
       "2    45.0                  2             4       600   Laptop            200  \n",
       "3    40.0                  4             6       600   Laptop            250  \n",
       "4    40.0                  2             4       500   Laptop            100  "
      ]
     },
     "metadata": {},
     "output_type": "display_data"
    }
   ],
   "source": [
    "survey=pd.read_csv('Survey.csv')\n",
    "display(survey.head())"
   ]
  },
  {
   "cell_type": "code",
   "execution_count": 36,
   "metadata": {},
   "outputs": [
    {
     "data": {
      "text/html": [
       "<div>\n",
       "<style scoped>\n",
       "    .dataframe tbody tr th:only-of-type {\n",
       "        vertical-align: middle;\n",
       "    }\n",
       "\n",
       "    .dataframe tbody tr th {\n",
       "        vertical-align: top;\n",
       "    }\n",
       "\n",
       "    .dataframe thead th {\n",
       "        text-align: right;\n",
       "    }\n",
       "</style>\n",
       "<table border=\"1\" class=\"dataframe\">\n",
       "  <thead>\n",
       "    <tr style=\"text-align: right;\">\n",
       "      <th></th>\n",
       "      <th>count</th>\n",
       "      <th>mean</th>\n",
       "      <th>std</th>\n",
       "      <th>min</th>\n",
       "      <th>25%</th>\n",
       "      <th>50%</th>\n",
       "      <th>75%</th>\n",
       "      <th>max</th>\n",
       "    </tr>\n",
       "  </thead>\n",
       "  <tbody>\n",
       "    <tr>\n",
       "      <th>GPA</th>\n",
       "      <td>62.0</td>\n",
       "      <td>3.129032</td>\n",
       "      <td>0.377388</td>\n",
       "      <td>2.3</td>\n",
       "      <td>2.9</td>\n",
       "      <td>3.15</td>\n",
       "      <td>3.4</td>\n",
       "      <td>3.9</td>\n",
       "    </tr>\n",
       "    <tr>\n",
       "      <th>Salary</th>\n",
       "      <td>62.0</td>\n",
       "      <td>48.548387</td>\n",
       "      <td>12.080912</td>\n",
       "      <td>25.0</td>\n",
       "      <td>40.0</td>\n",
       "      <td>50.00</td>\n",
       "      <td>55.0</td>\n",
       "      <td>80.0</td>\n",
       "    </tr>\n",
       "    <tr>\n",
       "      <th>Text Messages</th>\n",
       "      <td>62.0</td>\n",
       "      <td>246.209677</td>\n",
       "      <td>214.465950</td>\n",
       "      <td>0.0</td>\n",
       "      <td>100.0</td>\n",
       "      <td>200.00</td>\n",
       "      <td>300.0</td>\n",
       "      <td>900.0</td>\n",
       "    </tr>\n",
       "    <tr>\n",
       "      <th>Spending</th>\n",
       "      <td>62.0</td>\n",
       "      <td>482.016129</td>\n",
       "      <td>221.953805</td>\n",
       "      <td>100.0</td>\n",
       "      <td>312.5</td>\n",
       "      <td>500.00</td>\n",
       "      <td>600.0</td>\n",
       "      <td>1400.0</td>\n",
       "    </tr>\n",
       "  </tbody>\n",
       "</table>\n",
       "</div>"
      ],
      "text/plain": [
       "               count        mean         std    min    25%     50%    75%  \\\n",
       "GPA             62.0    3.129032    0.377388    2.3    2.9    3.15    3.4   \n",
       "Salary          62.0   48.548387   12.080912   25.0   40.0   50.00   55.0   \n",
       "Text Messages   62.0  246.209677  214.465950    0.0  100.0  200.00  300.0   \n",
       "Spending        62.0  482.016129  221.953805  100.0  312.5  500.00  600.0   \n",
       "\n",
       "                  max  \n",
       "GPA               3.9  \n",
       "Salary           80.0  \n",
       "Text Messages   900.0  \n",
       "Spending       1400.0  "
      ]
     },
     "metadata": {},
     "output_type": "display_data"
    }
   ],
   "source": [
    "\n",
    "survey_desc=survey.describe()[['GPA','Salary','Text Messages','Spending']].T\n",
    "\n",
    "display(survey_desc)"
   ]
  },
  {
   "cell_type": "code",
   "execution_count": 37,
   "metadata": {},
   "outputs": [
    {
     "data": {
      "text/html": [
       "<div>\n",
       "<style scoped>\n",
       "    .dataframe tbody tr th:only-of-type {\n",
       "        vertical-align: middle;\n",
       "    }\n",
       "\n",
       "    .dataframe tbody tr th {\n",
       "        vertical-align: top;\n",
       "    }\n",
       "\n",
       "    .dataframe thead th {\n",
       "        text-align: right;\n",
       "    }\n",
       "</style>\n",
       "<table border=\"1\" class=\"dataframe\">\n",
       "  <thead>\n",
       "    <tr style=\"text-align: right;\">\n",
       "      <th></th>\n",
       "      <th>0</th>\n",
       "    </tr>\n",
       "  </thead>\n",
       "  <tbody>\n",
       "    <tr>\n",
       "      <th>GPA</th>\n",
       "      <td>-0.314600</td>\n",
       "    </tr>\n",
       "    <tr>\n",
       "      <th>Salary</th>\n",
       "      <td>0.534701</td>\n",
       "    </tr>\n",
       "    <tr>\n",
       "      <th>Text Messages</th>\n",
       "      <td>1.295808</td>\n",
       "    </tr>\n",
       "    <tr>\n",
       "      <th>Spending</th>\n",
       "      <td>1.585915</td>\n",
       "    </tr>\n",
       "  </tbody>\n",
       "</table>\n",
       "</div>"
      ],
      "text/plain": [
       "                      0\n",
       "GPA           -0.314600\n",
       "Salary         0.534701\n",
       "Text Messages  1.295808\n",
       "Spending       1.585915"
      ]
     },
     "metadata": {},
     "output_type": "display_data"
    }
   ],
   "source": [
    "display((pd.DataFrame(survey[['GPA','Salary','Text Messages','Spending']].skew(axis = 0, skipna = True) )))"
   ]
  },
  {
   "cell_type": "markdown",
   "metadata": {},
   "source": [
    "###  2.1. For this data, construct the following contingency tables (Keep Gender as row variable)\n",
    "\n",
    "2.1.1. Gender and Major"
   ]
  },
  {
   "cell_type": "code",
   "execution_count": 38,
   "metadata": {},
   "outputs": [
    {
     "data": {
      "text/html": [
       "<div>\n",
       "<style scoped>\n",
       "    .dataframe tbody tr th:only-of-type {\n",
       "        vertical-align: middle;\n",
       "    }\n",
       "\n",
       "    .dataframe tbody tr th {\n",
       "        vertical-align: top;\n",
       "    }\n",
       "\n",
       "    .dataframe thead th {\n",
       "        text-align: right;\n",
       "    }\n",
       "</style>\n",
       "<table border=\"1\" class=\"dataframe\">\n",
       "  <thead>\n",
       "    <tr style=\"text-align: right;\">\n",
       "      <th>Major</th>\n",
       "      <th>Accounting</th>\n",
       "      <th>CIS</th>\n",
       "      <th>Economics/Finance</th>\n",
       "      <th>International Business</th>\n",
       "      <th>Management</th>\n",
       "      <th>Other</th>\n",
       "      <th>Retailing/Marketing</th>\n",
       "      <th>Undecided</th>\n",
       "      <th>TOTAL</th>\n",
       "    </tr>\n",
       "    <tr>\n",
       "      <th>Gender</th>\n",
       "      <th></th>\n",
       "      <th></th>\n",
       "      <th></th>\n",
       "      <th></th>\n",
       "      <th></th>\n",
       "      <th></th>\n",
       "      <th></th>\n",
       "      <th></th>\n",
       "      <th></th>\n",
       "    </tr>\n",
       "  </thead>\n",
       "  <tbody>\n",
       "    <tr>\n",
       "      <th>Female</th>\n",
       "      <td>3</td>\n",
       "      <td>3</td>\n",
       "      <td>7</td>\n",
       "      <td>4</td>\n",
       "      <td>4</td>\n",
       "      <td>3</td>\n",
       "      <td>9</td>\n",
       "      <td>0</td>\n",
       "      <td>33</td>\n",
       "    </tr>\n",
       "    <tr>\n",
       "      <th>Male</th>\n",
       "      <td>4</td>\n",
       "      <td>1</td>\n",
       "      <td>4</td>\n",
       "      <td>2</td>\n",
       "      <td>6</td>\n",
       "      <td>4</td>\n",
       "      <td>5</td>\n",
       "      <td>3</td>\n",
       "      <td>29</td>\n",
       "    </tr>\n",
       "    <tr>\n",
       "      <th>TOTAL</th>\n",
       "      <td>7</td>\n",
       "      <td>4</td>\n",
       "      <td>11</td>\n",
       "      <td>6</td>\n",
       "      <td>10</td>\n",
       "      <td>7</td>\n",
       "      <td>14</td>\n",
       "      <td>3</td>\n",
       "      <td>62</td>\n",
       "    </tr>\n",
       "  </tbody>\n",
       "</table>\n",
       "</div>"
      ],
      "text/plain": [
       "Major   Accounting  CIS  Economics/Finance  International Business  \\\n",
       "Gender                                                               \n",
       "Female           3    3                  7                       4   \n",
       "Male             4    1                  4                       2   \n",
       "TOTAL            7    4                 11                       6   \n",
       "\n",
       "Major   Management  Other  Retailing/Marketing  Undecided  TOTAL  \n",
       "Gender                                                            \n",
       "Female           4      3                    9          0     33  \n",
       "Male             6      4                    5          3     29  \n",
       "TOTAL           10      7                   14          3     62  "
      ]
     },
     "metadata": {},
     "output_type": "display_data"
    }
   ],
   "source": [
    "majs=pd.crosstab(index=survey['Gender'],columns=survey['Major'],margins=True,margins_name='TOTAL')#.reset_index()\n",
    "display(majs)"
   ]
  },
  {
   "cell_type": "markdown",
   "metadata": {},
   "source": [
    "2.1.2. Gender and Grad Intention"
   ]
  },
  {
   "cell_type": "code",
   "execution_count": 39,
   "metadata": {},
   "outputs": [
    {
     "data": {
      "text/html": [
       "<div>\n",
       "<style scoped>\n",
       "    .dataframe tbody tr th:only-of-type {\n",
       "        vertical-align: middle;\n",
       "    }\n",
       "\n",
       "    .dataframe tbody tr th {\n",
       "        vertical-align: top;\n",
       "    }\n",
       "\n",
       "    .dataframe thead th {\n",
       "        text-align: right;\n",
       "    }\n",
       "</style>\n",
       "<table border=\"1\" class=\"dataframe\">\n",
       "  <thead>\n",
       "    <tr style=\"text-align: right;\">\n",
       "      <th>Grad Intention</th>\n",
       "      <th>No</th>\n",
       "      <th>Undecided</th>\n",
       "      <th>Yes</th>\n",
       "      <th>TOTAL</th>\n",
       "    </tr>\n",
       "    <tr>\n",
       "      <th>Gender</th>\n",
       "      <th></th>\n",
       "      <th></th>\n",
       "      <th></th>\n",
       "      <th></th>\n",
       "    </tr>\n",
       "  </thead>\n",
       "  <tbody>\n",
       "    <tr>\n",
       "      <th>Female</th>\n",
       "      <td>9</td>\n",
       "      <td>13</td>\n",
       "      <td>11</td>\n",
       "      <td>33</td>\n",
       "    </tr>\n",
       "    <tr>\n",
       "      <th>Male</th>\n",
       "      <td>3</td>\n",
       "      <td>9</td>\n",
       "      <td>17</td>\n",
       "      <td>29</td>\n",
       "    </tr>\n",
       "    <tr>\n",
       "      <th>TOTAL</th>\n",
       "      <td>12</td>\n",
       "      <td>22</td>\n",
       "      <td>28</td>\n",
       "      <td>62</td>\n",
       "    </tr>\n",
       "  </tbody>\n",
       "</table>\n",
       "</div>"
      ],
      "text/plain": [
       "Grad Intention  No  Undecided  Yes  TOTAL\n",
       "Gender                                   \n",
       "Female           9         13   11     33\n",
       "Male             3          9   17     29\n",
       "TOTAL           12         22   28     62"
      ]
     },
     "metadata": {},
     "output_type": "display_data"
    }
   ],
   "source": [
    "display(pd.crosstab(index=survey['Gender'],columns=survey['Grad Intention'],margins=True,margins_name='TOTAL'))"
   ]
  },
  {
   "cell_type": "markdown",
   "metadata": {},
   "source": [
    "2.1.4. Gender and Employment"
   ]
  },
  {
   "cell_type": "code",
   "execution_count": 40,
   "metadata": {},
   "outputs": [
    {
     "data": {
      "text/html": [
       "<div>\n",
       "<style scoped>\n",
       "    .dataframe tbody tr th:only-of-type {\n",
       "        vertical-align: middle;\n",
       "    }\n",
       "\n",
       "    .dataframe tbody tr th {\n",
       "        vertical-align: top;\n",
       "    }\n",
       "\n",
       "    .dataframe thead th {\n",
       "        text-align: right;\n",
       "    }\n",
       "</style>\n",
       "<table border=\"1\" class=\"dataframe\">\n",
       "  <thead>\n",
       "    <tr style=\"text-align: right;\">\n",
       "      <th>Employment</th>\n",
       "      <th>Full-Time</th>\n",
       "      <th>Part-Time</th>\n",
       "      <th>Unemployed</th>\n",
       "      <th>TOTAL</th>\n",
       "    </tr>\n",
       "    <tr>\n",
       "      <th>Gender</th>\n",
       "      <th></th>\n",
       "      <th></th>\n",
       "      <th></th>\n",
       "      <th></th>\n",
       "    </tr>\n",
       "  </thead>\n",
       "  <tbody>\n",
       "    <tr>\n",
       "      <th>Female</th>\n",
       "      <td>3</td>\n",
       "      <td>24</td>\n",
       "      <td>6</td>\n",
       "      <td>33</td>\n",
       "    </tr>\n",
       "    <tr>\n",
       "      <th>Male</th>\n",
       "      <td>7</td>\n",
       "      <td>19</td>\n",
       "      <td>3</td>\n",
       "      <td>29</td>\n",
       "    </tr>\n",
       "    <tr>\n",
       "      <th>TOTAL</th>\n",
       "      <td>10</td>\n",
       "      <td>43</td>\n",
       "      <td>9</td>\n",
       "      <td>62</td>\n",
       "    </tr>\n",
       "  </tbody>\n",
       "</table>\n",
       "</div>"
      ],
      "text/plain": [
       "Employment  Full-Time  Part-Time  Unemployed  TOTAL\n",
       "Gender                                             \n",
       "Female              3         24           6     33\n",
       "Male                7         19           3     29\n",
       "TOTAL              10         43           9     62"
      ]
     },
     "metadata": {},
     "output_type": "display_data"
    }
   ],
   "source": [
    "display(pd.crosstab(index=survey['Gender'],columns=survey['Employment'],margins=True,margins_name='TOTAL'))"
   ]
  },
  {
   "cell_type": "markdown",
   "metadata": {},
   "source": [
    "2.1.4. Gender and Computer"
   ]
  },
  {
   "cell_type": "code",
   "execution_count": 41,
   "metadata": {},
   "outputs": [
    {
     "data": {
      "text/html": [
       "<div>\n",
       "<style scoped>\n",
       "    .dataframe tbody tr th:only-of-type {\n",
       "        vertical-align: middle;\n",
       "    }\n",
       "\n",
       "    .dataframe tbody tr th {\n",
       "        vertical-align: top;\n",
       "    }\n",
       "\n",
       "    .dataframe thead th {\n",
       "        text-align: right;\n",
       "    }\n",
       "</style>\n",
       "<table border=\"1\" class=\"dataframe\">\n",
       "  <thead>\n",
       "    <tr style=\"text-align: right;\">\n",
       "      <th>Computer</th>\n",
       "      <th>Desktop</th>\n",
       "      <th>Laptop</th>\n",
       "      <th>Tablet</th>\n",
       "      <th>TOTAL</th>\n",
       "    </tr>\n",
       "    <tr>\n",
       "      <th>Gender</th>\n",
       "      <th></th>\n",
       "      <th></th>\n",
       "      <th></th>\n",
       "      <th></th>\n",
       "    </tr>\n",
       "  </thead>\n",
       "  <tbody>\n",
       "    <tr>\n",
       "      <th>Female</th>\n",
       "      <td>2</td>\n",
       "      <td>29</td>\n",
       "      <td>2</td>\n",
       "      <td>33</td>\n",
       "    </tr>\n",
       "    <tr>\n",
       "      <th>Male</th>\n",
       "      <td>3</td>\n",
       "      <td>26</td>\n",
       "      <td>0</td>\n",
       "      <td>29</td>\n",
       "    </tr>\n",
       "    <tr>\n",
       "      <th>TOTAL</th>\n",
       "      <td>5</td>\n",
       "      <td>55</td>\n",
       "      <td>2</td>\n",
       "      <td>62</td>\n",
       "    </tr>\n",
       "  </tbody>\n",
       "</table>\n",
       "</div>"
      ],
      "text/plain": [
       "Computer  Desktop  Laptop  Tablet  TOTAL\n",
       "Gender                                  \n",
       "Female          2      29       2     33\n",
       "Male            3      26       0     29\n",
       "TOTAL           5      55       2     62"
      ]
     },
     "metadata": {},
     "output_type": "display_data"
    }
   ],
   "source": [
    "display(pd.crosstab(index=survey['Gender'],columns=survey['Computer'],margins=True,margins_name='TOTAL'))"
   ]
  },
  {
   "cell_type": "markdown",
   "metadata": {},
   "source": [
    "#### 2.2.1 What is the probability that a randomly selected CMSU student will be male?"
   ]
  },
  {
   "cell_type": "code",
   "execution_count": 42,
   "metadata": {},
   "outputs": [
    {
     "name": "stdout",
     "output_type": "stream",
     "text": [
      "Total no. of students is :  62\n",
      "Probability that a randomly selected CMSU student will be male :  0.47\n"
     ]
    }
   ],
   "source": [
    "total_studs=survey['Gender'].value_counts().sum()\n",
    "print('Total no. of students is : ',total_studs)\n",
    "\n",
    "no_male=survey['Gender'].value_counts()['Male']\n",
    "print('Probability that a randomly selected CMSU student will be male : ',round((no_male/total_studs),2))"
   ]
  },
  {
   "cell_type": "markdown",
   "metadata": {},
   "source": [
    "#### 2.2.2 What is the probability that a randomly selected CMSU student will be female?"
   ]
  },
  {
   "cell_type": "code",
   "execution_count": 43,
   "metadata": {},
   "outputs": [
    {
     "name": "stdout",
     "output_type": "stream",
     "text": [
      "Probability that a randomly selected CMSU student will be male :  0.53\n"
     ]
    }
   ],
   "source": [
    "no_female=survey['Gender'].value_counts()['Female']\n",
    "print('Probability that a randomly selected CMSU student will be male : ',round((no_female/total_studs),2))"
   ]
  },
  {
   "cell_type": "markdown",
   "metadata": {},
   "source": [
    "#### 2.3.1 Find the conditional probability of different majors among the male students in CMSU."
   ]
  },
  {
   "cell_type": "code",
   "execution_count": 44,
   "metadata": {},
   "outputs": [
    {
     "name": "stdout",
     "output_type": "stream",
     "text": [
      "P ( Accounting / MALE ) =4/29=  0.14\n",
      "P ( CIS / MALE ) =1/29=  0.03\n",
      "P ( Economics/Finance / MALE ) =4/29=  0.14\n",
      "P ( International Business / MALE ) =2/29=  0.07\n",
      "P ( Management / MALE ) =6/29=  0.21\n",
      "P ( Other / MALE ) =4/29=  0.14\n",
      "P ( Retailing/Marketing / MALE ) =5/29=  0.17\n",
      "P ( Undecided / MALE ) =3/29=  0.1\n"
     ]
    }
   ],
   "source": [
    "for maj in majs.columns[:-1]:\n",
    "    \n",
    "    p=majs[maj].iloc[1]/majs['TOTAL'].iloc[1]\n",
    "    num=majs[maj].iloc[1]\n",
    "    den=majs['TOTAL'].iloc[1]\n",
    "    print('P ( %s / MALE ) =%s/%s=  %s' %(maj,num,den,round(p,2)))"
   ]
  },
  {
   "cell_type": "markdown",
   "metadata": {},
   "source": [
    "#### 2.3.2 Find the conditional probability of different majors among the female students of CMSU."
   ]
  },
  {
   "cell_type": "code",
   "execution_count": 45,
   "metadata": {},
   "outputs": [
    {
     "name": "stdout",
     "output_type": "stream",
     "text": [
      "P (Accounting / FEMALE ) =3/33=  0.09\n",
      "P (CIS / FEMALE ) =3/33=  0.09\n",
      "P (Economics/Finance / FEMALE ) =7/33=  0.21\n",
      "P (International Business / FEMALE ) =4/33=  0.12\n",
      "P (Management / FEMALE ) =4/33=  0.12\n",
      "P (Other / FEMALE ) =3/33=  0.09\n",
      "P (Retailing/Marketing / FEMALE ) =9/33=  0.27\n",
      "P (Undecided / FEMALE ) =0/33=  0.0\n"
     ]
    }
   ],
   "source": [
    "for maj in majs.columns[:-1]:    \n",
    "    p=majs[maj].iloc[0]/majs['TOTAL'].iloc[0]\n",
    "    num=majs[maj].iloc[0]\n",
    "    den=majs['TOTAL'].iloc[0]\n",
    "    print('P (%s / FEMALE ) =%s/%s=  %s' %(maj,num,den,round(p,2)))"
   ]
  },
  {
   "cell_type": "markdown",
   "metadata": {},
   "source": [
    "#### 2.4.1 Find the probability That a randomly chosen student is a male AND intends to graduate."
   ]
  },
  {
   "cell_type": "code",
   "execution_count": 46,
   "metadata": {},
   "outputs": [
    {
     "name": "stdout",
     "output_type": "stream",
     "text": [
      "The probability That a randomly chosen student is a male and intends to graduate : 0.274\n"
     ]
    }
   ],
   "source": [
    "#P(Male and int to grad)\n",
    "print('The probability That a randomly chosen student is a male and intends to graduate : %s' %(round(17/62,3)))"
   ]
  },
  {
   "cell_type": "markdown",
   "metadata": {},
   "source": [
    "#### 2.4.2 Find the probability that a randomly selected student is a female and does NOT have a laptop."
   ]
  },
  {
   "cell_type": "code",
   "execution_count": 47,
   "metadata": {},
   "outputs": [
    {
     "name": "stdout",
     "output_type": "stream",
     "text": [
      "The probability that a randomly selected student is a female and does NOT have a laptop : 0.0645\n"
     ]
    }
   ],
   "source": [
    "print('The probability that a randomly selected student is a female and does NOT have a laptop : %s' %(round(4/62,4)))\n"
   ]
  },
  {
   "cell_type": "markdown",
   "metadata": {},
   "source": [
    "#### 2.5.1 Find the probability that a randomly chosen student is either a male or has a full-time employment"
   ]
  },
  {
   "cell_type": "code",
   "execution_count": 48,
   "metadata": {},
   "outputs": [
    {
     "name": "stdout",
     "output_type": "stream",
     "text": [
      "The probability that a randomly chosen student is either a male or has a full-time employment : 0.5161\n"
     ]
    }
   ],
   "source": [
    "#P(male U fulltime)\n",
    "print('The probability that a randomly chosen student'+\n",
    "     ' is either a male or has a full-time employment : %s' %(round((29/62+10/62)-7/62,4)))\n"
   ]
  },
  {
   "cell_type": "markdown",
   "metadata": {},
   "source": [
    "#### 2.5.2 Find the conditional probability that given a female student is randomly chosen, she is majoring in international business or management."
   ]
  },
  {
   "cell_type": "code",
   "execution_count": 49,
   "metadata": {},
   "outputs": [
    {
     "name": "stdout",
     "output_type": "stream",
     "text": [
      "The conditional probability that given a female student is randomly chosen, \n",
      "she is majoring in international business or management. 0.2424\n"
     ]
    }
   ],
   "source": [
    "#P()+P()\n",
    "print('The conditional probability that given a female student is randomly chosen, \\n'+\n",
    "      'she is majoring in international business or management. %s' %(round(8/33,4)))"
   ]
  },
  {
   "cell_type": "markdown",
   "metadata": {},
   "source": [
    "#### 2.6 Construct a contingency table of Gender and Intent to Graduate at 2 levels (Yes/No). The Undecided students are not considered now and the table is a 2x2 table. Do you think graduate intention and being female are independent events?"
   ]
  },
  {
   "cell_type": "code",
   "execution_count": 50,
   "metadata": {},
   "outputs": [
    {
     "data": {
      "text/html": [
       "<div>\n",
       "<style scoped>\n",
       "    .dataframe tbody tr th:only-of-type {\n",
       "        vertical-align: middle;\n",
       "    }\n",
       "\n",
       "    .dataframe tbody tr th {\n",
       "        vertical-align: top;\n",
       "    }\n",
       "\n",
       "    .dataframe thead th {\n",
       "        text-align: right;\n",
       "    }\n",
       "</style>\n",
       "<table border=\"1\" class=\"dataframe\">\n",
       "  <thead>\n",
       "    <tr style=\"text-align: right;\">\n",
       "      <th>Grad Intention</th>\n",
       "      <th>No</th>\n",
       "      <th>Yes</th>\n",
       "      <th>TOTAL</th>\n",
       "    </tr>\n",
       "    <tr>\n",
       "      <th>Gender</th>\n",
       "      <th></th>\n",
       "      <th></th>\n",
       "      <th></th>\n",
       "    </tr>\n",
       "  </thead>\n",
       "  <tbody>\n",
       "    <tr>\n",
       "      <th>Female</th>\n",
       "      <td>9</td>\n",
       "      <td>11</td>\n",
       "      <td>20</td>\n",
       "    </tr>\n",
       "    <tr>\n",
       "      <th>Male</th>\n",
       "      <td>3</td>\n",
       "      <td>17</td>\n",
       "      <td>20</td>\n",
       "    </tr>\n",
       "    <tr>\n",
       "      <th>TOTAL</th>\n",
       "      <td>12</td>\n",
       "      <td>28</td>\n",
       "      <td>40</td>\n",
       "    </tr>\n",
       "  </tbody>\n",
       "</table>\n",
       "</div>"
      ],
      "text/plain": [
       "Grad Intention  No  Yes  TOTAL\n",
       "Gender                        \n",
       "Female           9   11     20\n",
       "Male             3   17     20\n",
       "TOTAL           12   28     40"
      ]
     },
     "metadata": {},
     "output_type": "display_data"
    }
   ],
   "source": [
    "surv2=survey[survey['Grad Intention']!='Undecided']\n",
    "display(pd.crosstab(index=surv2['Gender'],columns=surv2['Grad Intention'],margins=True,margins_name='TOTAL'))"
   ]
  },
  {
   "cell_type": "markdown",
   "metadata": {},
   "source": [
    "P(F n Yes)=11/40\n",
    "\n",
    "P(F)=20/40\n",
    "\n",
    "P(Yes)=28/40\n",
    "\n",
    "P(F n Yes) != P(F).P(Yes)\n",
    "\n",
    "So graduate intention and being female are NOT independent events"
   ]
  },
  {
   "cell_type": "markdown",
   "metadata": {},
   "source": [
    "#### 2.7 Note that there are four numerical (continuous) variables in the data set, GPA, Salary, Spending and Text Messages. Answer the following questions based on the data"
   ]
  },
  {
   "cell_type": "markdown",
   "metadata": {},
   "source": [
    "#### 2.7.1 If a student is chosen randomly, what is the probability that his/her GPA is less than 3?"
   ]
  },
  {
   "cell_type": "code",
   "execution_count": 51,
   "metadata": {},
   "outputs": [
    {
     "name": "stdout",
     "output_type": "stream",
     "text": [
      "If a student is chosen randomly, the probability that his/her GPA is less than 3 is=17/62=0.27\n"
     ]
    }
   ],
   "source": [
    "m=survey[survey['GPA']<3]['GPA'].count()\n",
    "s=survey['GPA'].count()\n",
    "print('If a student is chosen randomly, the probability that his/her GPA is less than 3 is=%s/%s=%s' %(m,s,round(m/s,2)))"
   ]
  },
  {
   "cell_type": "markdown",
   "metadata": {},
   "source": [
    "\n",
    "#### 2.7.2 Find conditional probability that a randomly selected male earns 50 or more. Find conditional probability that a randomly selected female earns 50 or more."
   ]
  },
  {
   "cell_type": "code",
   "execution_count": 52,
   "metadata": {},
   "outputs": [
    {
     "name": "stdout",
     "output_type": "stream",
     "text": [
      "Probability that a randomly selected Male earns 50 or more :  0.483\n",
      "Probability that a randomly selected Female earns 50 or more :  0.545\n"
     ]
    }
   ],
   "source": [
    "surv_male=survey[(survey['Gender']=='Male') & (survey['Salary']>=50)]\n",
    "surv_female=survey[(survey['Gender']=='Female') & (survey['Salary']>=50)]\n",
    "m=surv_male['Gender'].count()\n",
    "f=surv_female['Gender'].count()\n",
    "print('Probability that a randomly selected Male earns 50 or more : ',round(m/29,3))\n",
    "print('Probability that a randomly selected Female earns 50 or more : ',round(f/33,3))\n"
   ]
  },
  {
   "cell_type": "markdown",
   "metadata": {},
   "source": [
    "#### 2.8.1 Note that there are four numerical (continuous) variables in the data set, GPA, Salary, Spending and Text Messages. For each of them comment whether they follow a normal distribution."
   ]
  },
  {
   "cell_type": "code",
   "execution_count": 53,
   "metadata": {
    "scrolled": false
   },
   "outputs": [
    {
     "data": {
      "image/png": "[encoded data removed]",
      "text/plain": [
       "<Figure size 720x1440 with 8 Axes>"
      ]
     },
     "metadata": {},
     "output_type": "display_data"
    }
   ],
   "source": [
    "fig, axes = plt.subplots(4,2,figsize=(10, 20))\n",
    "\n",
    "sns.distplot(survey['GPA'],ax=axes[0][0],)\n",
    "sm.qqplot(survey['GPA'], line ='45',loc=survey['GPA'].mean(), scale=survey['GPA'].std(),ax=axes[0][1]) \n",
    "\n",
    "\n",
    "sns.distplot(survey['Salary'],ax=axes[1][0],)\n",
    "sm.qqplot(survey['Salary'], line ='45',loc=survey['Salary'].mean(), scale=survey['Salary'].std(),ax=axes[1][1]) \n",
    "plt.savefig('male_female_dist1.png')\n",
    "sns.distplot(survey['Spending'],ax=axes[2][0],)\n",
    "sm.qqplot(survey['Spending'], line ='45',loc=survey['Spending'].mean(), scale=survey['Spending'].std(),ax=axes[2][1]) \n",
    "\n",
    "sns.distplot(survey['Text Messages'],ax=axes[3][0],)\n",
    "sm.qqplot(survey['Text Messages'], line ='45',loc=survey['Text Messages'].mean(), scale=survey['Text Messages'].std(),ax=axes[3][1]) \n",
    "plt.savefig('male_female_dist2.png')\n",
    "plt.show()\n"
   ]
  },
  {
   "cell_type": "markdown",
   "metadata": {},
   "source": [
    "#### We can see that GPA and Salary follows a distribution close to NORMAL\n",
    "\n",
    "#### Spending is also a close call, if we have more number of samples we may be able to comment better. Still it is close to Normal\n",
    "\n",
    "#### Text Messages follows a Bell curve and is Right Skewed"
   ]
  },
  {
   "cell_type": "markdown",
   "metadata": {},
   "source": [
    "#### 2.8.2 Write a note summarizing your conclusions."
   ]
  },
  {
   "cell_type": "markdown",
   "metadata": {},
   "source": [
    "•\tSample contains 47% Male students and 53% Female students. A lot of students like Retail/Marketing more than any other stream. Top three streams liked by students in order are:\n",
    "Retail/Marketing > Economics > Management\n",
    "\n",
    "•\tMore Female students are working in Part time jobs and more Male students are working in Full time jobs.\n",
    "\n",
    "•\t27% Male students intend to graduate.\n",
    "\n",
    "•\tMost of the students owns Laptops.\n",
    "\n",
    "•\t4% females do not own a laptop.\n",
    "\n",
    "•\t51% of students are either male or have full time employment.\n",
    "\n",
    "•\t24% female students are majoring International Business or Management.\n",
    "\n",
    "•\tGraduate intention and being female are not independent events.\n",
    "\n",
    "•\t48% Male students have salaries more than 50 and 54% of Female students have salaries more than 50.\n",
    "\n",
    "•\t27 % of Students have GPA less then 3. May be this is because they are working somewhere.\n",
    "\n",
    "•\tDistributions in 4 Numerical variables are close to normal. We can have a better understanding of Distribution if Outliers are removed and sample size is increased.\n"
   ]
  },
  {
   "cell_type": "markdown",
   "metadata": {},
   "source": [
    "### 3. An important quality characteristic used by the manufacturers of ABC asphalt shingles is the amount of moisture the shingles contain when they are packaged. Customers may feel that they have purchased a product lacking in quality if they find moisture and wet shingles inside the packaging.   In some cases, excessive moisture can cause the granules attached to the shingles for texture and colouring purposes to fall off the shingles resulting in appearance problems. To monitor the amount of moisture present, the company conducts moisture tests. A shingle is weighed and then dried. The shingle is then reweighed, and based on the amount of moisture taken out of the product, the pounds of moisture per 100 square feet are calculated. The company would like to show that the mean moisture content is less than 0.35 pound per 100 square feet.\n",
    "### The file (A & B shingles.csv) includes 36 measurements (in pounds per 100 square feet) for A shingles and 31 for B shingles."
   ]
  },
  {
   "cell_type": "code",
   "execution_count": 54,
   "metadata": {},
   "outputs": [
    {
     "data": {
      "text/html": [
       "<div>\n",
       "<style scoped>\n",
       "    .dataframe tbody tr th:only-of-type {\n",
       "        vertical-align: middle;\n",
       "    }\n",
       "\n",
       "    .dataframe tbody tr th {\n",
       "        vertical-align: top;\n",
       "    }\n",
       "\n",
       "    .dataframe thead th {\n",
       "        text-align: right;\n",
       "    }\n",
       "</style>\n",
       "<table border=\"1\" class=\"dataframe\">\n",
       "  <thead>\n",
       "    <tr style=\"text-align: right;\">\n",
       "      <th></th>\n",
       "      <th>A</th>\n",
       "      <th>B</th>\n",
       "    </tr>\n",
       "  </thead>\n",
       "  <tbody>\n",
       "    <tr>\n",
       "      <th>0</th>\n",
       "      <td>0.44</td>\n",
       "      <td>0.14</td>\n",
       "    </tr>\n",
       "    <tr>\n",
       "      <th>1</th>\n",
       "      <td>0.61</td>\n",
       "      <td>0.15</td>\n",
       "    </tr>\n",
       "    <tr>\n",
       "      <th>2</th>\n",
       "      <td>0.47</td>\n",
       "      <td>0.31</td>\n",
       "    </tr>\n",
       "    <tr>\n",
       "      <th>3</th>\n",
       "      <td>0.30</td>\n",
       "      <td>0.16</td>\n",
       "    </tr>\n",
       "    <tr>\n",
       "      <th>4</th>\n",
       "      <td>0.15</td>\n",
       "      <td>0.37</td>\n",
       "    </tr>\n",
       "  </tbody>\n",
       "</table>\n",
       "</div>"
      ],
      "text/plain": [
       "      A     B\n",
       "0  0.44  0.14\n",
       "1  0.61  0.15\n",
       "2  0.47  0.31\n",
       "3  0.30  0.16\n",
       "4  0.15  0.37"
      ]
     },
     "metadata": {},
     "output_type": "display_data"
    },
    {
     "data": {
      "image/png": "[encoded data removed]",
      "text/plain": [
       "<Figure size 432x288 with 1 Axes>"
      ]
     },
     "metadata": {},
     "output_type": "display_data"
    }
   ],
   "source": [
    "shin=pd.read_csv('A+&+B+shingles.csv')\n",
    "display(shin.head())\n",
    "sns.distplot(shin['A'])\n",
    "sns.distplot(shin['B'])\n",
    "plt.show()"
   ]
  },
  {
   "cell_type": "markdown",
   "metadata": {},
   "source": [
    "* We want to take precautionary measures if there is more moisture content\n",
    "\n",
    "For the A shingles, the null and alternative hypothesis to test whether the population\n",
    "\n",
    "mean moisture content is less than 0.35 pound per 100 square feet is given:\n",
    "\n",
    "H0= u<=0.35\n",
    "\n",
    "HA= u>0.35\n",
    "******************************************************************************************************************************\n",
    "******************************************************************************************************************************\n",
    "For the B shingles, the null and alternative hypothesis to test whether the population\n",
    "\n",
    "mean moisture content is less than 0.35 pound per 100 square feet is given:\n",
    "\n",
    "H0: u<=0.35\n",
    "\n",
    "HA: u>0.35\n",
    "******************************************************************************************************************************\n",
    "alpha=0.05"
   ]
  },
  {
   "cell_type": "markdown",
   "metadata": {},
   "source": [
    "#### 3.1 Do you think there is evidence that mean moisture contents in both types of shingles are within the permissible limits? State your conclusions clearly showing all steps.\n"
   ]
  },
  {
   "cell_type": "code",
   "execution_count": 55,
   "metadata": {},
   "outputs": [
    {
     "name": "stdout",
     "output_type": "stream",
     "text": [
      "t-stat and p_val for A Shingles are -1.474 and 0.075\n"
     ]
    }
   ],
   "source": [
    "t1,p1=ttest_1samp(shin['A'], 0.35)\n",
    "t1,p1=t1,p1/2\n",
    "print('t-stat and p_val for A Shingles are %s and %s'%(round(t1,3),round(p1,3)))"
   ]
  },
  {
   "cell_type": "code",
   "execution_count": 56,
   "metadata": {},
   "outputs": [
    {
     "name": "stdout",
     "output_type": "stream",
     "text": [
      "t-stat and p_val for B Shingles are -3.1 and 0.002\n"
     ]
    }
   ],
   "source": [
    "t2,p2=ttest_1samp(shin['B'], 0.35,nan_policy='omit')\n",
    "t2,p2=t2,p2/2\n",
    "print('t-stat and p_val for B Shingles are %s and %s'%(round(t2,3),round(p2,3)))"
   ]
  },
  {
   "cell_type": "markdown",
   "metadata": {},
   "source": [
    "Since in  A Shingles p value> alpha\n",
    "* We have enough evidence to accept NULL HYPOTHESIS \n",
    "\n",
    "Since in  B Shingles p value< alpha\n",
    "* We have enough evidence to reject NULL HYPOTHESIS "
   ]
  },
  {
   "cell_type": "markdown",
   "metadata": {},
   "source": [
    "#### 3.2 Do you think that the population means for shingles A and B are equal? Form the hypothesis and conduct the test of the hypothesis. What assumption do you need to check before the test for equality of means is performed?"
   ]
  },
  {
   "cell_type": "markdown",
   "metadata": {},
   "source": [
    "Assumptions:\n",
    "\n",
    "-Both A and B are INDEPENDENT variables.\n",
    "\n",
    "-Scale of measurement applied to the data collected follows a continuous scale.\n",
    "\n",
    "-Variables follows a normal distribution\n",
    "\n",
    "\n",
    "   $\\alpha$ = 0.05 and the population standard deviation is not known.\n",
    "\n",
    "    * We have two samples and we do not know the population standard deviation.\n",
    "    * Sample sizes for both samples are  not same.\n",
    "\n",
    "    Null Hypothesis states that the population means for shingles A and B are equal\n",
    "\n",
    "    H0: uA=uB\n",
    "\n",
    "    Alternative Hypothesis states that that the population means for shingles A and B are not equal \n",
    "\n",
    "    HA: uA!=uB"
   ]
  },
  {
   "cell_type": "code",
   "execution_count": 57,
   "metadata": {},
   "outputs": [
    {
     "name": "stdout",
     "output_type": "stream",
     "text": [
      "tstat 1.2896282719661123\n",
      "P Value 0.2017496571835306\n"
     ]
    }
   ],
   "source": [
    "t_statistic, p_value  = ttest_ind(shin['A'],shin['B'],nan_policy='omit')\n",
    "print('tstat',t_statistic)    \n",
    "print('P Value',p_value)    "
   ]
  },
  {
   "cell_type": "markdown",
   "metadata": {},
   "source": [
    "* Two-sample t-test p-value= 0.2017496571835306\n",
    "\n",
    "Since p value > alpha \n",
    "\n",
    "We have enough evidence to ACCEPT the null hypothesis.\n",
    "\n",
    "We conclude that the population means for shingles A and B are equal."
   ]
  },
  {
   "cell_type": "code",
   "execution_count": null,
   "metadata": {},
   "outputs": [],
   "source": []
  },
  {
   "cell_type": "code",
   "execution_count": null,
   "metadata": {},
   "outputs": [],
   "source": []
  }
 ],
 "metadata": {
  "kernelspec": {
   "display_name": "Python 3",
   "language": "python",
   "name": "python3"
  },
  "language_info": {
   "codemirror_mode": {
    "name": "ipython",
    "version": 3
   },
   "file_extension": ".py",
   "mimetype": "text/x-python",
   "name": "python",
   "nbconvert_exporter": "python",
   "pygments_lexer": "ipython3",
   "version": "3.8.5"
  }
 },
 "nbformat": 4,
 "nbformat_minor": 4
}
